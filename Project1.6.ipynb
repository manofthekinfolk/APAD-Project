{
 "cells": [
  {
   "cell_type": "code",
   "execution_count": 5,
   "metadata": {},
   "outputs": [
    {
     "name": "stdout",
     "output_type": "stream",
     "text": [
      "fail to create tables near \"database\": syntax error\n"
     ]
    }
   ],
   "source": [
    "import sqlite3\n",
    "# db connect\n",
    "conn = sqlite3.connect(\"SQLiteTest.db\")\n",
    "c = conn.cursor()\n",
    "#create db/table\n",
    "sql1=\"create database pj1;\"\n",
    "sql2=\"use pj1;\"\n",
    "sql3=\"CREATE TABLE States(StateID INTEGER primary key autoincrement, StateName TEXT);\"\n",
    "sql4=\"CREATE TABLE Users(PKUserID INTEGER primary key autoincrement, Admin INT, Email TEXT);\"\n",
    "sql5=\"CREATE TABLE Rating(Rating REAL,FKEventID INT, FKUserID INT);\"\n",
    "sql6=\"CREATE TABLE events(PKEventID INTEGER primary key autoincrement,FKSportsID INT, EventName TEXT, EventDescription TEXT, UserCapacity INT , TimeStart TEXT,TimeEnd TEXT, FKVenueID INT, FKTagID INT);\"\n",
    "sql7=\"CREATE TABLE Tags(TagID INTEGER primary key autoincrement,TagName TEXT);\"\n",
    "sql8=\"CREATE TABLE Venues(PKVenueID INTEGER primary key autoincrement, Venue TEXT, VenueCapacity INT, AvailabilityStart TEXT, AvailabilityEnd TEXT);\"\n",
    "sql9=\"CREATE TABLE UsersEvent(PKUsersEvent INTEGER primary key autoincrement,FKUserID INT, FKEventID INTEGER);\"\n",
    "sql10=\"CREATE TABLE Sports(SportID INTEGER primary key autoincrement, SportName TEXT);\"\n",
    "try:\n",
    "    c.execute(sql1)\n",
    "    c.execute(sql2)\n",
    "    c.execute(sql3)\n",
    "    c.execute(sql4)\n",
    "    c.execute(sql5)\n",
    "    c.execute(sql6)\n",
    "    c.execute(sql7)\n",
    "    c.execute(sql8)\n",
    "    c.execute(sql9)\n",
    "    c.execute(sql10)\n",
    "except Exception as e:\n",
    "    conn.rollback()\n",
    "    print('fail to create tables', e)\n",
    "else:\n",
    "        conn.commit()\n",
    "        print('succeed')"
   ]
  },
  {
   "cell_type": "code",
   "execution_count": 7,
   "metadata": {},
   "outputs": [
    {
     "name": "stdout",
     "output_type": "stream",
     "text": [
      "What is your email: davidkinman\n",
      "Verify Email: davidkinman\n",
      "Choose a Password: pwd\n",
      "Please input your first name: David\n",
      "Please input your Last name: Kinman\n",
      "Please input your Street Address: drawbridge\n",
      "Please input your city location: arlington\n",
      "Please input your state residence: texas\n",
      "Please input your Zip_Code: 76012\n",
      "Admin (True or False)?T\n"
     ]
    },
    {
     "ename": "TypeError",
     "evalue": "not all arguments converted during string formatting",
     "output_type": "error",
     "traceback": [
      "\u001b[1;31m---------------------------------------------------------------------------\u001b[0m",
      "\u001b[1;31mTypeError\u001b[0m                                 Traceback (most recent call last)",
      "\u001b[1;32m<ipython-input-7-b3458b782185>\u001b[0m in \u001b[0;36m<module>\u001b[1;34m\u001b[0m\n\u001b[0;32m     24\u001b[0m \u001b[1;31m#add this username,pwd, and admin\u001b[0m\u001b[1;33m\u001b[0m\u001b[1;33m\u001b[0m\u001b[1;33m\u001b[0m\u001b[0m\n\u001b[0;32m     25\u001b[0m c.execute('''INSERT INTO User(Admin, Email, FirstName,LastName, Password,StreetAddress,City,State,ZipCode) VALUES(%s,%s,%s,%s,%s,%s,%s,%s); '''\n\u001b[1;32m---> 26\u001b[1;33m           %(admin, email,FirstName,LastName, pw, Street_Address,City, State,Zip_Code))\n\u001b[0m\u001b[0;32m     27\u001b[0m \u001b[0mconn\u001b[0m\u001b[1;33m.\u001b[0m\u001b[0mcommit\u001b[0m\u001b[1;33m(\u001b[0m\u001b[1;33m)\u001b[0m\u001b[1;33m\u001b[0m\u001b[1;33m\u001b[0m\u001b[0m\n",
      "\u001b[1;31mTypeError\u001b[0m: not all arguments converted during string formatting"
     ]
    }
   ],
   "source": [
    "#Function 1 DK\n",
    "#Database connector and needed for all files\n",
    "conn = sqlite3.connect(\"SQLiteTest.db\")\n",
    "c = conn.cursor()\n",
    "\n",
    "emailverifier = int(0) #used for verification\n",
    "email = input(\"What is your email: \") \n",
    "while emailverifier == 0:  \n",
    "    emailverify = input(\"Verify Email: \")\n",
    "    if email == emailverify:\n",
    "        emailverifier += int(1)\n",
    "pw = input(\"Choose a Password: \")\n",
    "FirstName = input('Please input your first name: ') \n",
    "LastName = input('Please input your Last name: ') \n",
    "Street_Address = input('Please input your Street Address: ') \n",
    "City = input('Please input your city location: ') \n",
    "State = input('Please input your state residence: ') \n",
    "#Add state verifier here\n",
    "Zip_Code = input('Please input your Zip_Code: ') \n",
    "\n",
    "admin = input(str('Admin (True or False)?')) #a\n",
    "\n",
    "login = [admin, email,FirstName,LastName, pw, Street_Address,City, State,Zip_Code]\n",
    "#add this username,pwd, and admin\n",
    "print('''INSERT INTO User(Admin, Email, FirstName,LastName, Password,StreetAddress,City,State,ZipCode) VALUES(%s,%s,%s,%s,%s,%s,%s,%s); '''\n",
    "          %(admin, email,FirstName,LastName, pw, Street_Address,City, State,Zip_Code))\n",
    "conn.commit()\n"
   ]
  },
  {
   "cell_type": "code",
   "execution_count": 16,
   "metadata": {},
   "outputs": [
    {
     "name": "stdout",
     "output_type": "stream",
     "text": [
      "What is your email: f\n",
      "Verify Email: f\n",
      "Choose a Password: f\n",
      "Please input your first name: f\n",
      "Please input your Last name: f\n",
      "Please input your Street Address: f\n",
      "Please input your city location: f\n",
      "Please input your state residence: f\n",
      "Please input your Zip_Code: f\n",
      "Admin (True or False)?f\n"
     ]
    },
    {
     "ename": "OperationalError",
     "evalue": "table Users has no column named FirstName",
     "output_type": "error",
     "traceback": [
      "\u001b[1;31m---------------------------------------------------------------------------\u001b[0m",
      "\u001b[1;31mOperationalError\u001b[0m                          Traceback (most recent call last)",
      "\u001b[1;32m<ipython-input-16-623bed7dc9ee>\u001b[0m in \u001b[0;36m<module>\u001b[1;34m\u001b[0m\n\u001b[0;32m     26\u001b[0m \u001b[1;33m\u001b[0m\u001b[0m\n\u001b[0;32m     27\u001b[0m \u001b[1;31m#add this username,pwd, and admin\u001b[0m\u001b[1;33m\u001b[0m\u001b[1;33m\u001b[0m\u001b[1;33m\u001b[0m\u001b[0m\n\u001b[1;32m---> 28\u001b[1;33m \u001b[0mc\u001b[0m\u001b[1;33m.\u001b[0m\u001b[0mexecute\u001b[0m\u001b[1;33m(\u001b[0m\u001b[1;34m\"\"\"INSERT INTO Users(Admin, Email, FirstName,LastName, Password,StreetAddress,City,State,ZipCode) VALUES(\"%s\",\"%s\",\"%s\",\"%s\",\"%s\",\"%s\",\"%s\",\"%s\",\"%s\"); \"\"\"\u001b[0m\u001b[1;33m%\u001b[0m\u001b[1;33m(\u001b[0m\u001b[0mA\u001b[0m\u001b[1;33m,\u001b[0m \u001b[0memail\u001b[0m\u001b[1;33m,\u001b[0m\u001b[0mFN\u001b[0m\u001b[1;33m,\u001b[0m\u001b[0mLN\u001b[0m\u001b[1;33m,\u001b[0m \u001b[0mPW\u001b[0m\u001b[1;33m,\u001b[0m \u001b[0mSA\u001b[0m\u001b[1;33m,\u001b[0m\u001b[0mC\u001b[0m\u001b[1;33m,\u001b[0m \u001b[0mS\u001b[0m\u001b[1;33m,\u001b[0m\u001b[0mZ\u001b[0m\u001b[1;33m)\u001b[0m\u001b[1;33m)\u001b[0m\u001b[1;33m\u001b[0m\u001b[1;33m\u001b[0m\u001b[0m\n\u001b[0m\u001b[0;32m     29\u001b[0m \u001b[0mconn\u001b[0m\u001b[1;33m.\u001b[0m\u001b[0mcommit\u001b[0m\u001b[1;33m(\u001b[0m\u001b[1;33m)\u001b[0m\u001b[1;33m\u001b[0m\u001b[1;33m\u001b[0m\u001b[0m\n",
      "\u001b[1;31mOperationalError\u001b[0m: table Users has no column named FirstName"
     ]
    }
   ],
   "source": [
    "#Function 1 DK\n",
    "#Database connector and needed for all files\n",
    "# Need to transpose into my format, specificaly variable names for db\n",
    "conn = sqlite3.connect(\"SQLiteTest.db\")\n",
    "c = conn.cursor()\n",
    "\n",
    "verify = int(0) #used for verification\n",
    "email = input(\"What is your email: \") \n",
    "\n",
    "while verify == 0:  \n",
    "    ver = input(\"Verify Email: \")\n",
    "    if email == ver:\n",
    "        verify += int(1)\n",
    "PW = input(\"Choose a Password: \")\n",
    "FN = input('Please input your first name: ') \n",
    "LN = input('Please input your Last name: ') \n",
    "SA = input('Please input your Street Address: ') \n",
    "C = input('Please input your city location: ') \n",
    "S = input('Please input your state residence: ') \n",
    "#Add state verifier here\n",
    "Z = input('Please input your Zip_Code: ') \n",
    "A = input('Admin (True or False)?')\n",
    "if A==\"True\":\n",
    "    A = int(1)\n",
    "if A == \"False\":\n",
    "    A = int(0)\n",
    "\n",
    "#add this username,pwd, and admin\n",
    "c.execute(\"\"\"INSERT INTO Users(Admin, Email, FirstName,LastName, Password,StreetAddress,City,State,ZipCode) VALUES(\"%s\",\"%s\",\"%s\",\"%s\",\"%s\",\"%s\",\"%s\",\"%s\",\"%s\"); \"\"\"%(A, email,FN,LN, PW, SA,C, S,Z))\n",
    "conn.commit()\n",
    "# c.execute == runs the query, %\n"
   ]
  },
  {
   "cell_type": "code",
   "execution_count": null,
   "metadata": {},
   "outputs": [],
   "source": [
    "#Function 2 \n",
    "Venue_Name = input(\"What Venue would you like to add? (Venue-Court-Court)\")\n",
    "Venue_Event_Capacity = input(\"What is the Event Capacity? \")\n",
    "Availability_Start = input(\"What time do you want bookings available to start everyday? \\n\\ HH:MM format\") # how do we do it\n",
    "Availability_End = input(\"What time do you want bookings available to end everyday? HH:MM format\")\n",
    "\n",
    "TE = '0'+TE #07\n",
    "TimeEndHour = int(TE)+int(TS[11:13]) #uses indexes \n",
    "TE = TS[0:11] + str(TimeEndHour) + TS[13:] \n",
    "\n",
    "\n",
    "\n",
    "\n",
    "\n",
    "c.execute('''INSERT INTO Venues(VenueName, EventCapacity, AvailabilityStart, AvailabilityEnd) VALUES(%s,%s,%s,%s);'''\n",
    "          %s(V4))\n",
    "db.commit()\n",
    "\n",
    "print(\"Thank you for adding a Venue!\")\n"
   ]
  },
  {
   "cell_type": "code",
   "execution_count": 3,
   "metadata": {},
   "outputs": [],
   "source": [
    "import sqlite3\n",
    "# db connect\n",
    "mydb = sqlite3.connect(\"SQLiteTest.db\")\n",
    "\n",
    "c = mydb.cursor()"
   ]
  },
  {
   "cell_type": "markdown",
   "metadata": {},
   "source": [
    "# Delete table"
   ]
  },
  {
   "cell_type": "code",
   "execution_count": 1,
   "metadata": {},
   "outputs": [
    {
     "ename": "NameError",
     "evalue": "name 'c' is not defined",
     "output_type": "error",
     "traceback": [
      "\u001b[1;31m---------------------------------------------------------------------------\u001b[0m",
      "\u001b[1;31mNameError\u001b[0m                                 Traceback (most recent call last)",
      "\u001b[1;32m<ipython-input-1-8429ac8849dc>\u001b[0m in \u001b[0;36m<module>\u001b[1;34m\u001b[0m\n\u001b[1;32m----> 1\u001b[1;33m \u001b[0mc\u001b[0m\u001b[1;33m.\u001b[0m\u001b[0mexecute\u001b[0m \u001b[1;33m=\u001b[0m \u001b[1;34m\"DETACH DATABASE pj1\"\u001b[0m\u001b[1;33m\u001b[0m\u001b[1;33m\u001b[0m\u001b[0m\n\u001b[0m",
      "\u001b[1;31mNameError\u001b[0m: name 'c' is not defined"
     ]
    }
   ],
   "source": [
    "c.execute = \"DETACH DATABASE pj1\""
   ]
  },
  {
   "cell_type": "code",
   "execution_count": null,
   "metadata": {},
   "outputs": [],
   "source": [
    "#Function 3 by CC\n",
    "UC = input(\"User's ID: \")\n",
    "\n",
    "#If it is already user\n",
    "#cursor.execute('''SELECT PKUserID FROM Users WHERE Email = %s''',(email))\n",
    "#UC = cursor.fetchall()\n",
    "EN = input(\"What is the Event Name?\")\n",
    "SP = input(\"What is the Sport? (Please choose from the following)\\n (Basketball, Badminton, Soccer)\")\n",
    "\n",
    "ED = input(\"Please add some Description\")\n",
    "UC = input(\"How many people can play?\")\n",
    "TS = input(\"When will the event start? (Please use YYYY-MM-DD HH:MM format)\")\n",
    "TE = input(\"How long will the event last?\")\n",
    "TE = '0'+TE\n",
    "Store = TE\n",
    "TimeEndHour = int(TE)+int(TS[11:13])\n",
    "TE = TS[0:11] + str(TimeEndHour) + TS[13:]\n",
    "V = input(\"Where will the event take place? (Venue-Court-Court Number)\")\n",
    "\n",
    "c.execute('SELECT PKVenueID FROM Venues WHERE Venue = \"%s\"'%(V))\n",
    "p = c.fetchall()\n",
    "if p == None:\n",
    "    venue_add()\n",
    "    c.execute('SELECT MAX(PKVenueID) FROM Venues')\n",
    "    V = c.fetchall()\n",
    "else:\n",
    "    V = p[0][0]\n",
    "    #print(p[0][0])\n",
    "V=p[0][0]\n",
    "c.execute('SELECT SportID FROM Sports WHERE SportName = \"%s\"'%(SP))\n",
    "Y = c.fetchall()\n",
    "SP = Y[0][0]\n",
    "#print (SP)\n",
    "#print (SP,EN,ED,UC,TS,TE,V)\n",
    "c.execute('INSERT INTO events(FKSportsID, EventName, EventDescription, UserCapacity, \\\n",
    "                TimeStart, TimeEnd, FKVenueID)  \\\n",
    "                VALUES (\"%s\",\"%s\",\"%s\",\"%s\",\"%s\",\"%s\",\"%s\")'%(SP,EN,ED,UC,TS,TE,V))\n",
    "print(\"Event Added\")\n",
    "\n",
    "#2019-01-01 15:00"
   ]
  },
  {
   "cell_type": "code",
   "execution_count": null,
   "metadata": {},
   "outputs": [],
   "source": [
    "#Function 6 by CC\n",
    "date = input(\"What date do you want to search? (Please input in MM/DD format)\")\n",
    "time = input(\"What time do you prefer? (Please input in 24hr format)\")\n",
    "query = '2019-'+date[0:2]+'-'+date[3:5]+' '+time + ':00'\n",
    "print(query)\n",
    "c.execute('SELECT Events.EventName,Venues.Venue FROM events INNER JOIN Venues ON Venues.PKVenueID = Events.FKVenueID WHERE Events.TimeStart = \"%s\"'%(query))\n",
    "p1 = c.fetchall()\n",
    "for x in p1:\n",
    "    print(x)"
   ]
  },
  {
   "cell_type": "code",
   "execution_count": null,
   "metadata": {},
   "outputs": [],
   "source": [
    "#Function 2 by CC\n",
    "VN = input(\"What Venue would you like to add? (Venue-Court)\")\n",
    "VC = input(\"What is the Venue Capacity? \")\n",
    "c.execute(\"INSERT INTO Venues (Venue, VenueCapacity) VALUES ('%s','%s')\"%(VN,VC))      \n",
    "mydb.commit()\n",
    "print(\"Thank you for adding a Venue!\")\n",
    "c.execute('SELECT * FROM Venues')\n",
    "x = c.fetchall()\n",
    "print(x)"
   ]
  },
  {
   "cell_type": "code",
   "execution_count": null,
   "metadata": {},
   "outputs": [],
   "source": [
    "#Function 7 \n"
   ]
  },
  {
   "cell_type": "code",
   "execution_count": null,
   "metadata": {},
   "outputs": [],
   "source": []
  }
 ],
 "metadata": {
  "kernelspec": {
   "display_name": "Python 3",
   "language": "python",
   "name": "python3"
  },
  "language_info": {
   "codemirror_mode": {
    "name": "ipython",
    "version": 3
   },
   "file_extension": ".py",
   "mimetype": "text/x-python",
   "name": "python",
   "nbconvert_exporter": "python",
   "pygments_lexer": "ipython3",
   "version": "3.7.3"
  }
 },
 "nbformat": 4,
 "nbformat_minor": 2
}
