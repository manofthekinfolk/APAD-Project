{
 "cells": [
  {
   "cell_type": "markdown",
   "metadata": {},
   "source": [
    "# Project 1 Jupyter File\n"
   ]
  },
  {
   "cell_type": "code",
   "execution_count": 1,
   "metadata": {},
   "outputs": [
    {
     "ename": "SyntaxError",
     "evalue": "invalid character in identifier (<ipython-input-1-d9eabce27c8f>, line 2)",
     "output_type": "error",
     "traceback": [
      "\u001b[1;36m  File \u001b[1;32m\"<ipython-input-1-d9eabce27c8f>\"\u001b[1;36m, line \u001b[1;32m2\u001b[0m\n\u001b[1;33m    def connect(db=“projecttest.db”):\u001b[0m\n\u001b[1;37m                              ^\u001b[0m\n\u001b[1;31mSyntaxError\u001b[0m\u001b[1;31m:\u001b[0m invalid character in identifier\n"
     ]
    }
   ],
   "source": [
    "import sqlite3\n",
    "def connect(db=“projecttest.db”):\n",
    "   try:\n",
    "       con = sqlite3.connect(db)\n",
    "       return con\n",
    "   except:\n",
    "       print(“Unable to Connect”)\n",
    "       return None\n",
    "db = connect()\n",
    "c = db.cursor()\n",
    "def clear_table(table):\n",
    "   c.execute(‘’'DELETE FROM %s’‘'% (table))\n",
    "   db.commit()\n",
    "   return None\n",
    "def add_user(FN=“T”,LN=“E”,admin=0):\n",
    "   c.execute('''‘’'SELECT ID FROM \"tablename\" WHERE''' )\n",
    "   c.execute('''INSERT INTO User(ID,First_Name,Last_Name, Admin) VALUES(%s,%s,%s,%s); '''%(ID,FN,LN,admin))\n",
    "   db.commit()\n",
    "c.execute('''INSERT INTO User(ID,First_Name,Last_Name, Admin) VALUES(1,“A”,“B”,1);''')\n",
    "y = c.fetchall()\n",
    "for x in y:\n",
    "   print(x)\n",
    "db.commit()"
   ]
  }
 ],
 "metadata": {
  "kernelspec": {
   "display_name": "Python 3",
   "language": "python",
   "name": "python3"
  },
  "language_info": {
   "codemirror_mode": {
    "name": "ipython",
    "version": 3
   },
   "file_extension": ".py",
   "mimetype": "text/x-python",
   "name": "python",
   "nbconvert_exporter": "python",
   "pygments_lexer": "ipython3",
   "version": "3.7.3"
  }
 },
 "nbformat": 4,
 "nbformat_minor": 2
}
