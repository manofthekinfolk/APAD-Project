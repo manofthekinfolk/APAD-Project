{
 "cells": [
  {
   "cell_type": "markdown",
   "metadata": {},
   "source": [
    "Connect & Create"
   ]
  },
  {
   "cell_type": "code",
   "execution_count": 37,
   "metadata": {},
   "outputs": [
    {
     "name": "stdout",
     "output_type": "stream",
     "text": [
      "succeed\n"
     ]
    }
   ],
   "source": [
    "import sqlite3\n",
    "# db connect\n",
    "conn = sqlite3.connect(\"SQLiteTest.db\")\n",
    "c = conn.cursor()\n",
    "#create db/table\n",
    "#sql1=\"create database pj1;\"\n",
    "#sql2=\"use pj1;\"\n",
    "sql3=\"CREATE TABLE States(StateID INTEGER primary key autoincrement, StateName TEXT);\"\n",
    "sql4=\"CREATE TABLE Users(PKUserID INTEGER primary key autoincrement, Admin INT, Email TEXT);\"\n",
    "sql5=\"CREATE TABLE Rating(Rating REAL,FKEventID INT, FKUserID INT);\"\n",
    "sql6=\"CREATE TABLE events(PKEventID INTEGER primary key autoincrement,FKSportsID INT, EventName TEXT, EventDescription TEXT, UserCapacity INT , TimeStart TEXT,TimeEnd TEXT, FKVenueID INT, FKTagID INT);\"\n",
    "sql7=\"CREATE TABLE Tags(TagID INTEGER primary key autoincrement,TagName TEXT);\"\n",
    "sql8=\"CREATE TABLE Venues(PKVenueID INTEGER primary key autoincrement, Venue TEXT, VenueCapacity INT);\"\n",
    "sql9=\"CREATE TABLE UsersEvent(PKUsersEvent INTEGER primary key autoincrement,FKUserID INT, FKEventID INTEGER);\"\n",
    "sql10=\"CREATE TABLE Sports(SportID INTEGER primary key autoincrement, SportName TEXT);\"\n",
    "try:\n",
    "#    mycursor.execute(sql1)\n",
    "#    mycursor.execute(sql2)\n",
    "    c.execute(sql3)\n",
    "    c.execute(sql4)\n",
    "    c.execute(sql5)\n",
    "    c.execute(sql6)\n",
    "    c.execute(sql7)\n",
    "    c.execute(sql8)\n",
    "    c.execute(sql9)\n",
    "    c.execute(sql10)\n",
    "except Exception as e:\n",
    "    mydb.rollback()\n",
    "    print('fail to create tables', e)\n",
    "else:\n",
    "        mydb.commit()\n",
    "        print('succeed')\n"
   ]
  },
  {
   "cell_type": "markdown",
   "metadata": {},
   "source": [
    "Connect"
   ]
  },
  {
   "cell_type": "code",
   "execution_count": 22,
   "metadata": {},
   "outputs": [],
   "source": [
    "import sqlite3\n",
    "# db connect\n",
    "mydb = sqlite3.connect(\"SQLiteTest.db\")\n",
    "\n",
    "c = mydb.cursor()"
   ]
  },
  {
   "cell_type": "code",
   "execution_count": null,
   "metadata": {},
   "outputs": [],
   "source": [
    "Create Sample Data"
   ]
  },
  {
   "cell_type": "code",
   "execution_count": null,
   "metadata": {},
   "outputs": [],
   "source": [
    "#Create User\n",
    "c.execute(\"INSERT INTO Users(Admin, Email) VALUES ('1','HI')\")\n",
    "#Create Venue\n",
    "c.execute(\"INSERT INTO Venues (Venue, VenueCapacity) VALUES ('A-1','8')\")\n",
    "c.execute(\"INSERT INTO Venues (Venue, VenueCapacity) VALUES ('A-2','4')\")\n",
    "#Create Sport\n",
    "c.execute(\"INSERT INTO Sports(SportName) VALUES ('Basketball')\")\n",
    "c.execute(\"INSERT INTO Sports(SportName) VALUES ('Badminton')\")\n",
    "c.execute(\"INSERT INTO Sports(SportName) VALUES ('Soccer')\")\n",
    "c.execute('INSERT INTO events(FKSportsID, EventName, EventDescription, UserCapacity, \\\n",
    "                TimeStart, TimeEnd, FKVenueID)  \\\n",
    "                VALUES (\"3\",\"Event1\",\"Describe1\",\"8\",\"2019-01-01 12:00\",\"2019-01-01 16:00\",\"1\")'%(SP,EN,ED,UC,TS,TE,V))\n",
    "c.execute('INSERT INTO events(FKSportsID, EventName, EventDescription, UserCapacity, \\\n",
    "                TimeStart, TimeEnd, FKVenueID)  \\\n",
    "                VALUES (\"1\",\"Event1\",\"Describe1\",\"4\",\"2019-01-01 15:00\",\"2019-01-01 16:00\",\"1\")'%(SP,EN,ED,UC,TS,TE,V))\n",
    "\n"
   ]
  },
  {
   "cell_type": "markdown",
   "metadata": {},
   "source": [
    "Function 3 Start an event"
   ]
  },
  {
   "cell_type": "code",
   "execution_count": 91,
   "metadata": {},
   "outputs": [
    {
     "name": "stdin",
     "output_type": "stream",
     "text": [
      "User's ID:  1\n",
      "What is the Event Name? Event3\n",
      "What is the Sport? (Please choose from the following)\n",
      " (Basketball, Badminton, Soccer) Soccer\n",
      "Please add some Description D3\n",
      "How many people can play? 3\n",
      "When will the event start? (Please use YYYY-MM-DD HH:MM format) 2019-01-01 15:00\n",
      "How long will the event last? 3\n",
      "Where will the event take place? (Venue-Court-Court Number) A-2\n"
     ]
    },
    {
     "name": "stdout",
     "output_type": "stream",
     "text": [
      "Event Added\n"
     ]
    }
   ],
   "source": [
    "UC = input(\"User's ID: \")\n",
    "\n",
    "#If it is already user\n",
    "#cursor.execute('''SELECT PKUserID FROM Users WHERE Email = %s''',(email))\n",
    "#UC = cursor.fetchall()\n",
    "EN = input(\"What is the Event Name?\")\n",
    "SP = input(\"What is the Sport? (Please choose from the following)\\n (Basketball, Badminton, Soccer)\")\n",
    "\n",
    "ED = input(\"Please add some Description\")\n",
    "UC = input(\"How many people can play?\")\n",
    "TS = input(\"When will the event start? (Please use YYYY-MM-DD HH:MM format)\")\n",
    "TE = input(\"How long will the event last?\")\n",
    "TE = '0'+TE\n",
    "Store = TE\n",
    "TimeEndHour = int(TE)+int(TS[11:13])\n",
    "TE = TS[0:11] + str(TimeEndHour) + TS[13:]\n",
    "V = input(\"Where will the event take place? (Venue-Court-Court Number)\")\n",
    "\n",
    "c.execute('SELECT PKVenueID FROM Venues WHERE Venue = \"%s\"'%(V))\n",
    "p = c.fetchall()\n",
    "if p == None:\n",
    "    venue_add()\n",
    "    c.execute('SELECT MAX(PKVenueID) FROM Venues')\n",
    "    V = c.fetchall()\n",
    "else:\n",
    "    V = p[0][0]\n",
    "    #print(p[0][0])\n",
    "V=p[0][0]\n",
    "c.execute('SELECT SportID FROM Sports WHERE SportName = \"%s\"'%(SP))\n",
    "Y = c.fetchall()\n",
    "SP = Y[0][0]\n",
    "#print (SP)\n",
    "#print (SP,EN,ED,UC,TS,TE,V)\n",
    "c.execute('INSERT INTO events(FKSportsID, EventName, EventDescription, UserCapacity, \\\n",
    "                TimeStart, TimeEnd, FKVenueID)  \\\n",
    "                VALUES (\"%s\",\"%s\",\"%s\",\"%s\",\"%s\",\"%s\",\"%s\")'%(SP,EN,ED,UC,TS,TE,V))\n",
    "print(\"Event Added\")\n",
    "\n",
    "#2019-01-01 15:00"
   ]
  },
  {
   "cell_type": "markdown",
   "metadata": {},
   "source": [
    "Function 6 List events at a venue given date/time"
   ]
  },
  {
   "cell_type": "code",
   "execution_count": 95,
   "metadata": {},
   "outputs": [
    {
     "name": "stdin",
     "output_type": "stream",
     "text": [
      "What date do you want to search? (Please input in MM/DD format) 01/01\n",
      "What time do you prefer? (Please input in 24hr format) 15\n"
     ]
    },
    {
     "name": "stdout",
     "output_type": "stream",
     "text": [
      "2019-01-01 15:00\n",
      "('e1', 'A-2')\n",
      "('event2', 'A-2')\n",
      "('Event3', 'A-2')\n"
     ]
    }
   ],
   "source": [
    "date = input(\"What date do you want to search? (Please input in MM/DD format)\")\n",
    "time = input(\"What time do you prefer? (Please input in 24hr format)\")\n",
    "query = '2019-'+date[0:2]+'-'+date[3:5]+' '+time + ':00'\n",
    "print(query)\n",
    "c.execute('SELECT Events.EventName,Venues.Venue FROM events INNER JOIN Venues ON Venues.PKVenueID = Events.FKVenueID WHERE Events.TimeStart = \"%s\"'%(query))\n",
    "p1 = c.fetchall()\n",
    "for x in p1:\n",
    "    print(x)"
   ]
  },
  {
   "cell_type": "markdown",
   "metadata": {},
   "source": [
    "Function 2 Add Venue"
   ]
  },
  {
   "cell_type": "code",
   "execution_count": 39,
   "metadata": {},
   "outputs": [
    {
     "name": "stdin",
     "output_type": "stream",
     "text": [
      "What Venue would you like to add? (Venue-Court) A-2\n",
      "What is the Venue Capacity?  1\n"
     ]
    },
    {
     "name": "stdout",
     "output_type": "stream",
     "text": [
      "Thank you for adding a Venue!\n",
      "[(1, 'A-2', 1)]\n"
     ]
    }
   ],
   "source": [
    "VN = input(\"What Venue would you like to add? (Venue-Court)\")\n",
    "VC = input(\"What is the Venue Capacity? \")\n",
    "c.execute(\"INSERT INTO Venues (Venue, VenueCapacity) VALUES ('%s','%s')\"%(VN,VC))      \n",
    "mydb.commit()\n",
    "print(\"Thank you for adding a Venue!\")\n",
    "c.execute('SELECT * FROM Venues')\n",
    "x = c.fetchall()\n",
    "print(x)"
   ]
  },
  {
   "cell_type": "code",
   "execution_count": 92,
   "metadata": {},
   "outputs": [
    {
     "name": "stdout",
     "output_type": "stream",
     "text": [
      "[(1, 3, 'e1', 'd1', 2, '2019-01-01 15:00', '2019-01-01 02:00', 1, None), (2, 3, 'event2', 'd2', 3, '2019-01-01 15:00', '2019-01-01 02:00', 1, None), (3, 3, 'Event3', 'D3', 3, '2019-01-01 15:00', '2019-01-01 18:00', 1, None)]\n"
     ]
    }
   ],
   "source": [
    "c.execute('SELECT * FROM Events')\n",
    "x = c.fetchall()\n",
    "print(x)"
   ]
  },
  {
   "cell_type": "code",
   "execution_count": 43,
   "metadata": {},
   "outputs": [
    {
     "data": {
      "text/plain": [
       "<sqlite3.Cursor at 0x10c5ac650>"
      ]
     },
     "execution_count": 43,
     "metadata": {},
     "output_type": "execute_result"
    }
   ],
   "source": []
  },
  {
   "cell_type": "code",
   "execution_count": null,
   "metadata": {},
   "outputs": [],
   "source": []
  }
 ],
 "metadata": {
  "kernelspec": {
   "display_name": "Python 3",
   "language": "python",
   "name": "python3"
  },
  "language_info": {
   "codemirror_mode": {
    "name": "ipython",
    "version": 3
   },
   "file_extension": ".py",
   "mimetype": "text/x-python",
   "name": "python",
   "nbconvert_exporter": "python",
   "pygments_lexer": "ipython3",
   "version": "3.7.3"
  }
 },
 "nbformat": 4,
 "nbformat_minor": 4
}
