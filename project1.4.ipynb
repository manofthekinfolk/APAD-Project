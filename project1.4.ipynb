{
 "cells": [
  {
   "cell_type": "markdown",
   "metadata": {},
   "source": [
    "# Project 1 Jupyter File\n"
   ]
  },
  {
   "cell_type": "markdown",
   "metadata": {},
   "source": [
    "Create Table"
   ]
  },
  {
   "cell_type": "code",
   "execution_count": 1,
   "metadata": {},
   "outputs": [
    {
     "name": "stdout",
     "output_type": "stream",
     "text": [
      "succeed\n"
     ]
    }
   ],
   "source": [
    "import mysql.connector\n",
    "# db connect\n",
    "mydb = mysql.connector.connect(\n",
    "    host = \"localhost\",\n",
    "    user = \"root\",\n",
    "    #passwd for my mysqlserver\n",
    "    passwd = \"970311\"\n",
    "    \n",
    ")\n",
    "\n",
    "mycursor = mydb.cursor()\n",
    "#create db/table\n",
    "sql1=\"create database pj1;\"\n",
    "sql2=\"use pj1;\"\n",
    "sql3=\"CREATE TABLE States(StateID INT PRIMARY KEY, StateName Varchar(30) UNIQUE NOT NULL);\"\n",
    "sql4=\"CREATE TABLE Users(PKUserID INT PRIMARY KEY, Admin BOOL not NULL,FirstName VARCHAR(50) Not NULL, LastName VARCHAR(30) NOT NULL, Email VARCHAR(50) NOT NULL,Password VARCHAR(50) NOT NULL, StreetAddress VARCHAR(100) NOT NULL, City VARCHAR(50) NOT NULL,FKStateID INT, ZipCode VARCHAR(10));\"\n",
    "sql5=\"CREATE TABLE Rating(Rating DECIMAL(1,1) NOT NULL,FKEventID INT, FKUserID int);\"\n",
    "sql6=\"CREATE TABLE events(PKEventID INT AUTO_INCREMENT primary key,FKSportsID INT, FieldName VARCHAR(50), EventDescription VARCHAR(1000), UserCapacity INT NOT NULL, TimeStart datetime,TimeEnd datetime, FKVenueID INT, FKTagID INT);\"\n",
    "sql7=\"CREATE TABLE Tags(TagID INT PRIMARY KEY NOT NULL,TagName VARCHAR(20) NOT NULL);\"\n",
    "sql8=\"CREATE TABLE Venues(PKVenueID INT NOT NULL AUTO_INCREMENT PRIMARY KEY, Venue VARCHAR(100) NOT NULL, EventCapacity INT NOT NULL);\"\n",
    "sql9=\"CREATE TABLE UsersEvent(PKUsersEvent INT NOT NULL PRIMARY KEY,FKUserID INT, FKEventID INTEGER);\"\n",
    "sql10=\"CREATE TABLE Sports(SportID INT PRIMARY KEY, SportName VARCHAR(50));\"\n",
    "try:\n",
    "    mycursor.execute(sql1)\n",
    "    mycursor.execute(sql2)\n",
    "    mycursor.execute(sql3)\n",
    "    mycursor.execute(sql4)\n",
    "    mycursor.execute(sql5)\n",
    "    mycursor.execute(sql6)\n",
    "    mycursor.execute(sql7)\n",
    "    mycursor.execute(sql8)\n",
    "    mycursor.execute(sql9)\n",
    "    mycursor.execute(sql10)\n",
    "except Exception as e:\n",
    "    mydb.rollback()\n",
    "    print('fail to create tables', e)\n",
    "else:\n",
    "        mydb.commit()\n",
    "        print('succeed')\n",
    "mycursor.close()\n",
    "mydb.close()"
   ]
  },
  {
   "cell_type": "code",
   "execution_count": 2,
   "metadata": {},
   "outputs": [
    {
     "name": "stdout",
     "output_type": "stream",
     "text": [
      "succeed\n"
     ]
    }
   ],
   "source": [
    "import mysql.connector\n",
    "# db connect\n",
    "mydb = mysql.connector.connect(\n",
    "    host = \"localhost\",\n",
    "    user = \"root\",\n",
    "    passwd = \"970311\"\n",
    ")\n",
    "\n",
    "mycursor = mydb.cursor()\n",
    "#add foreign key\n",
    "sql_1=\"use pj1;\"    \n",
    "sql_2=\"alter table Users add constraint fk_states foreign key (FKStateID) references States(StateID) on update restrict on delete set null;\"\n",
    "sql_3=\"alter table Rating add constraint fk_eventid foreign key (FKEventID) references events(PKEventID) on update restrict on delete set null;\"\n",
    "sql_4=\"alter table Rating add constraint fk_userid foreign key (FKUserID) references Users(PKUSerID) on update restrict on delete set null;\"\n",
    "sql_5=\"alter table events add constraint fk_venueid foreign key (FKVenueID) references Venues(PKVenueID) on update restrict on delete set null;\"\n",
    "sql_6=\"alter table events add constraint fk_tagid foreign key (FKTagID) references Tags(TagID) on update restrict on delete set null;\"\n",
    "sql_7=\"alter table UsersEvent add constraint fk_euserid foreign key (FKUserID) references Users(PKUserID) on update restrict on delete set null;\"\n",
    "sql_8=\"alter table UsersEvent add constraint fk_eevnetid foreign key (FKEventID) references Events(PKEventID) on update restrict on delete set null;\"\n",
    "try:\n",
    "    mycursor.execute(sql_1)\n",
    "    mycursor.execute(sql_2)\n",
    "    mycursor.execute(sql_3)\n",
    "    mycursor.execute(sql_4)\n",
    "    mycursor.execute(sql_5)\n",
    "    mycursor.execute(sql_6)\n",
    "    mycursor.execute(sql_7)\n",
    "    mycursor.execute(sql_8)\n",
    "except Exception as e:\n",
    "    mydb.rollback()\n",
    "    print('fail to create foriegn keys', e)\n",
    "else:\n",
    "        mydb.commit()\n",
    "        print('succeed')\n",
    "mycursor.close()\n",
    "mydb.close()\n"
   ]
  },
  {
   "cell_type": "code",
   "execution_count": 13,
   "metadata": {},
   "outputs": [],
   "source": [
    "import mysql.connector\n",
    "db = mysql.connector.connect(\n",
    "    host = \"localhost\",\n",
    "    user = \"root\",\n",
    "    passwd = \"970311\",\n",
    "    db=\"pj1\"\n",
    ")\n",
    "# def connect(db=\"pj1.db\"):\n",
    "#     try:\n",
    "#         con = sqlite3.connect(db)\n",
    "#         return con\n",
    "#     except:\n",
    "#         print(\"Unable to Connect\")\n",
    "#         return None\n",
    "#db = sqlite3.connect(\"User\\jass\\sqlite\\pj1.db\")    \n",
    "\n",
    "c = mydb.cursor()\n",
    "\n",
    "# def clear_table(table):\n",
    "#     c.execute('DELETE FROM %s'% (table))\n",
    "#     db.commit()\n",
    "#     return None\n",
    "\n",
    "def add_user(FN=\"T\",LN=\"E\",admin=0):\n",
    "    c.execute('SELECT PKUserID FROM User WHERE ')\n",
    "    c.execute('''INSERT INTO Users(PKUserID,FirstName,LastName, Admin) VALUES(%s,%s,%s,%s); '''%(ID,FN,LN,admin))\n",
    "    db.commit()\n",
    "\n",
    "\n",
    "c.execute('''INSERT INTO Users(PKUserID, FirstName, LastName, Admin) VALUES(1,\"C\",\"C\",1); ''')\n",
    "y = c.fetchall()\n",
    "for x in y:\n",
    "    print(x)\n",
    "    \n",
    "db.commit()"
   ]
  },
  {
   "cell_type": "code",
   "execution_count": 14,
   "metadata": {},
   "outputs": [
    {
     "name": "stdout",
     "output_type": "stream",
     "text": [
      "(1, 'A', 'B', 1)\n",
      "(1, 'A', 'B', 1)\n",
      "(1, 'A', 'B', 1)\n",
      "(1, 'A', 'B', 1)\n",
      "(1, 'A', 'B', 1)\n",
      "(1, 'A', 'C', 0)\n",
      "(1, 'A', 'A', 1)\n",
      "(1, 'C', 'A', 1)\n",
      "(1, 'C', 'C', 1)\n"
     ]
    }
   ],
   "source": [
    "c.execute(\"SELECT * FROM Users\")\n",
    "p1 = c.fetchall()\n",
    "for x in p1:\n",
    "    print(x)\n",
    "db.commit()"
   ]
  },
  {
   "cell_type": "code",
   "execution_count": 49,
   "metadata": {},
   "outputs": [
    {
     "name": "stdout",
     "output_type": "stream",
     "text": [
      "None\n"
     ]
    }
   ],
   "source": [
    "print(c.lastrowid)\n",
    "#c.execute(\"\"\"CREATE TABLE User(\n",
    "#            ID,\n",
    "#            FN,\n",
    "#            LN,\n",
    "#            Admin)\"\"\")"
   ]
  },
  {
   "cell_type": "markdown",
   "metadata": {},
   "source": [
    "# Verify Admin Status"
   ]
  },
  {
   "cell_type": "code",
   "execution_count": null,
   "metadata": {},
   "outputs": [],
   "source": [
    "nm = input(\"User name: \") \n",
    "pw = input(\"Password: \")\n",
    "login = (nm,pw)\n",
    "#placeholder= '?' # For SQLite. See DBAPI paramstyle.\n",
    "#placeholders= ', '.join(placeholder for unused in l)\n",
    "querya = 'select * from users where Admin=1' #query admin list\n",
    "queryall = 'select * from users group by PKUserID' #query all and declares as list\n",
    "queryn = 'select * from users' #query users\n",
    "\n",
    "\n",
    "\n",
    "c.execute('SELECT FirstN,LN FROM Users WHERE TRUE;')#?\n",
    "\n",
    "\n",
    "\n",
    "p1 = c.fetchall()\n",
    "for x in p1:\n",
    "    queryall.append(x)\n",
    "c.execute('SELECT FirstName,LastName FROM Users WHERE Admin = 1;')\n",
    "p1 = c.fetchall()\n",
    "for x in p1:\n",
    "    querya.append(x)\n",
    "c.execute('SELECT LastName FROM Users WHERE Admin = 0;')\n",
    "p1 = c.fetchall()\n",
    "for x in p1:\n",
    "    queryp.append(x)\n",
    "#c.execute(query, l)\n",
    "\n",
    "print(querya)\n",
    "print(queryp)\n",
    "print(login)\n",
    "\n",
    "            \n",
    "for i in queryall:\n",
    "    if login == i:\n",
    "        print(\"Login Success\")\n",
    "        for j in querya:\n",
    "            if login == j:\n",
    "                print(\"Admin\")\n",
    "                break\n",
    "            else:\n",
    "                print(\"User\")\n",
    "                break\n",
    "            \n",
    "        \n",
    "        \n",
    "\n",
    "#print(\"Hi Admin\")\n",
    "#if ((check(queryn, nm)) or (check(queryp, pw))):\n",
    "#    print(\"Success\")\n",
    "#else:\n",
    "#    print(\"Try Again\")\n"
   ]
  },
  {
   "cell_type": "code",
   "execution_count": null,
   "metadata": {},
   "outputs": [],
   "source": []
  },
  {
   "cell_type": "code",
   "execution_count": 46,
   "metadata": {},
   "outputs": [
    {
     "ename": "ModuleNotFoundError",
     "evalue": "No module named 'MySQLdb'",
     "output_type": "error",
     "traceback": [
      "\u001b[0;31m---------------------------------------------------------------------------\u001b[0m",
      "\u001b[0;31mModuleNotFoundError\u001b[0m                       Traceback (most recent call last)",
      "\u001b[0;32m<ipython-input-46-1ca246cdd999>\u001b[0m in \u001b[0;36m<module>\u001b[0;34m\u001b[0m\n\u001b[0;32m----> 1\u001b[0;31m \u001b[0;32mimport\u001b[0m \u001b[0mMySQLdb\u001b[0m\u001b[0;34m\u001b[0m\u001b[0;34m\u001b[0m\u001b[0m\n\u001b[0m",
      "\u001b[0;31mModuleNotFoundError\u001b[0m: No module named 'MySQLdb'"
     ]
    }
   ],
   "source": [
    "import mysql.connector\n",
    "db = mysql.connector.connect(\n",
    "    host = \"localhost\",\n",
    "    user = \"root\",\n",
    "    passwd = \"970311\",\n",
    "    db=\"pj1\"\n",
    ")"
   ]
  },
  {
   "cell_type": "code",
   "execution_count": null,
   "metadata": {},
   "outputs": [],
   "source": []
  },
  {
   "cell_type": "code",
   "execution_count": 54,
   "metadata": {},
   "outputs": [
    {
     "name": "stdout",
     "output_type": "stream",
     "text": [
      "Username: [], password []\n"
     ]
    }
   ],
   "source": [
    "import sys\n",
    "import getpass\n",
    "\n",
    "if sys.stdin.isatty():\n",
    "   print(\"Enter credentials\")\n",
    "   username = raw_input(\"Username: \")\n",
    "   password = getpass.getpass(\"Password: \")\n",
    "else:\n",
    "   username = sys.stdin.readline().rstrip()\n",
    "   password = sys.stdin.readline().rstrip()\n",
    "\n",
    "print(\"Username: [%s], password [%s]\" % (username, password))"
   ]
  },
  {
   "cell_type": "code",
   "execution_count": null,
   "metadata": {},
   "outputs": [],
   "source": [
    "c.execute('INSERT INTO Users(PKUserID,FirstName,LastName, Admin) VALUES(1,\"A\",\"B\",1); )\n",
    "db.commit"
   ]
  },
  {
   "cell_type": "code",
   "execution_count": null,
   "metadata": {},
   "outputs": [],
   "source": [
    "c.execute('''INSERT INTO Users(PKUserID,FirstName,LastName, Admin) VALUES(1,\"A\",\"B\",1); ''')\n",
    "db.commit"
   ]
  },
  {
   "cell_type": "code",
   "execution_count": 13,
   "metadata": {},
   "outputs": [
    {
     "ename": "OperationalError",
     "evalue": "near \"(\": syntax error",
     "output_type": "error",
     "traceback": [
      "\u001b[0;31m---------------------------------------------------------------------------\u001b[0m",
      "\u001b[0;31mOperationalError\u001b[0m                          Traceback (most recent call last)",
      "\u001b[0;32m<ipython-input-13-20d3ba017b21>\u001b[0m in \u001b[0;36m<module>\u001b[0;34m\u001b[0m\n\u001b[0;32m----> 1\u001b[0;31m \u001b[0mclear_table\u001b[0m\u001b[0;34m(\u001b[0m\u001b[0;34m\"User\"\u001b[0m\u001b[0;34m)\u001b[0m\u001b[0;34m\u001b[0m\u001b[0;34m\u001b[0m\u001b[0m\n\u001b[0m",
      "\u001b[0;32m<ipython-input-10-b3ad2e8d9337>\u001b[0m in \u001b[0;36mclear_table\u001b[0;34m(table)\u001b[0m\n\u001b[1;32m     10\u001b[0m \u001b[0;34m\u001b[0m\u001b[0m\n\u001b[1;32m     11\u001b[0m \u001b[0;32mdef\u001b[0m \u001b[0mclear_table\u001b[0m\u001b[0;34m(\u001b[0m\u001b[0mtable\u001b[0m\u001b[0;34m)\u001b[0m\u001b[0;34m:\u001b[0m\u001b[0;34m\u001b[0m\u001b[0;34m\u001b[0m\u001b[0m\n\u001b[0;32m---> 12\u001b[0;31m     \u001b[0mc\u001b[0m\u001b[0;34m.\u001b[0m\u001b[0mexecute\u001b[0m\u001b[0;34m(\u001b[0m\u001b[0;34m\"\"\"DELETE FROM (%s);\"\"\"\u001b[0m\u001b[0;34m,\u001b[0m \u001b[0;34m(\u001b[0m\u001b[0mtable\u001b[0m\u001b[0;34m)\u001b[0m\u001b[0;34m)\u001b[0m\u001b[0;34m\u001b[0m\u001b[0;34m\u001b[0m\u001b[0m\n\u001b[0m\u001b[1;32m     13\u001b[0m     \u001b[0;32mreturn\u001b[0m \u001b[0;32mNone\u001b[0m\u001b[0;34m\u001b[0m\u001b[0;34m\u001b[0m\u001b[0m\n\u001b[1;32m     14\u001b[0m \u001b[0;34m\u001b[0m\u001b[0m\n",
      "\u001b[0;31mOperationalError\u001b[0m: near \"(\": syntax error"
     ]
    }
   ],
   "source": [
    "#clear_table(\"Users\")"
   ]
  },
  {
   "cell_type": "code",
   "execution_count": 2,
   "metadata": {},
   "outputs": [
    {
     "ename": "NameError",
     "evalue": "name 'c' is not defined",
     "output_type": "error",
     "traceback": [
      "\u001b[1;31m---------------------------------------------------------------------------\u001b[0m",
      "\u001b[1;31mNameError\u001b[0m                                 Traceback (most recent call last)",
      "\u001b[1;32m<ipython-input-2-11efbd1244b2>\u001b[0m in \u001b[0;36m<module>\u001b[1;34m\u001b[0m\n\u001b[0;32m      3\u001b[0m     \u001b[0mdb\u001b[0m\u001b[1;33m.\u001b[0m\u001b[0mcommit\u001b[0m\u001b[1;33m\u001b[0m\u001b[1;33m\u001b[0m\u001b[0m\n\u001b[0;32m      4\u001b[0m \u001b[1;33m\u001b[0m\u001b[0m\n\u001b[1;32m----> 5\u001b[1;33m \u001b[0madd_user\u001b[0m\u001b[1;33m(\u001b[0m\u001b[1;33m)\u001b[0m\u001b[1;33m\u001b[0m\u001b[1;33m\u001b[0m\u001b[0m\n\u001b[0m\u001b[0;32m      6\u001b[0m \u001b[1;33m\u001b[0m\u001b[0m\n",
      "\u001b[1;32m<ipython-input-2-11efbd1244b2>\u001b[0m in \u001b[0;36madd_user\u001b[1;34m(FN, LN)\u001b[0m\n\u001b[0;32m      1\u001b[0m \u001b[1;32mdef\u001b[0m \u001b[0madd_user\u001b[0m\u001b[1;33m(\u001b[0m\u001b[0mFN\u001b[0m\u001b[1;33m=\u001b[0m\u001b[1;34m\"A\"\u001b[0m\u001b[1;33m,\u001b[0m\u001b[0mLN\u001b[0m\u001b[1;33m=\u001b[0m\u001b[1;34m\"B\"\u001b[0m\u001b[1;33m)\u001b[0m\u001b[1;33m:\u001b[0m\u001b[1;33m\u001b[0m\u001b[1;33m\u001b[0m\u001b[0m\n\u001b[1;32m----> 2\u001b[1;33m     \u001b[0mc\u001b[0m\u001b[1;33m.\u001b[0m\u001b[0mexecute\u001b[0m\u001b[1;33m(\u001b[0m\u001b[1;34m'''INSERT INTO Users(PKUserID,FirstName,LastName, Admin) VALUES(1,\"A\",\"B\",1); '''\u001b[0m\u001b[1;33m)\u001b[0m\u001b[1;33m\u001b[0m\u001b[1;33m\u001b[0m\u001b[0m\n\u001b[0m\u001b[0;32m      3\u001b[0m     \u001b[0mdb\u001b[0m\u001b[1;33m.\u001b[0m\u001b[0mcommit\u001b[0m\u001b[1;33m\u001b[0m\u001b[1;33m\u001b[0m\u001b[0m\n\u001b[0;32m      4\u001b[0m \u001b[1;33m\u001b[0m\u001b[0m\n\u001b[0;32m      5\u001b[0m \u001b[0madd_user\u001b[0m\u001b[1;33m(\u001b[0m\u001b[1;33m)\u001b[0m\u001b[1;33m\u001b[0m\u001b[1;33m\u001b[0m\u001b[0m\n",
      "\u001b[1;31mNameError\u001b[0m: name 'c' is not defined"
     ]
    }
   ],
   "source": [
    "def add_user(FN=\"A\",LN=\"B\"):\n",
    "    c.execute('''INSERT INTO Users(PKUserID,FirstName,LastName, Admin) VALUES(1,\"A\",\"B\",1); ''')\n",
    "    db.commit\n",
    "\n",
    "add_user()\n",
    "    "
   ]
  },
  {
   "cell_type": "code",
   "execution_count": 39,
   "metadata": {},
   "outputs": [],
   "source": [
    "db = connect()\n",
    "c = db.cursor()\n"
   ]
  },
  {
   "cell_type": "code",
   "execution_count": 10,
   "metadata": {},
   "outputs": [],
   "source": [
    "p1 = cursor.fetchall()\n",
    "for x in p1:\n",
    "    print(x)\n",
    "db.commit()\n",
    "    "
   ]
  },
  {
   "cell_type": "code",
   "execution_count": null,
   "metadata": {},
   "outputs": [],
   "source": []
  },
  {
   "cell_type": "code",
   "execution_count": 13,
   "metadata": {},
   "outputs": [],
   "source": [
    "import django\n",
    "from django.contrib.auth import authenticate, login"
   ]
  },
  {
   "cell_type": "code",
   "execution_count": 22,
   "metadata": {},
   "outputs": [
    {
     "name": "stdout",
     "output_type": "stream",
     "text": [
      "Unable to Connect\n"
     ]
    },
    {
     "ename": "AttributeError",
     "evalue": "'NoneType' object has no attribute 'cursor'",
     "output_type": "error",
     "traceback": [
      "\u001b[0;31m---------------------------------------------------------------------------\u001b[0m",
      "\u001b[0;31mAttributeError\u001b[0m                            Traceback (most recent call last)",
      "\u001b[0;32m<ipython-input-22-3eeb70dbe5a1>\u001b[0m in \u001b[0;36m<module>\u001b[0;34m\u001b[0m\n\u001b[1;32m      1\u001b[0m \u001b[0mdb\u001b[0m \u001b[0;34m=\u001b[0m \u001b[0mconnect\u001b[0m\u001b[0;34m(\u001b[0m\u001b[0;34m\"/Users/jass/Documents/Master_Summer/MIS_382N_Adv._Programming/project/Phase1/projecttest.db\"\u001b[0m\u001b[0;34m)\u001b[0m\u001b[0;34m\u001b[0m\u001b[0;34m\u001b[0m\u001b[0m\n\u001b[0;32m----> 2\u001b[0;31m \u001b[0mcursor\u001b[0m \u001b[0;34m=\u001b[0m \u001b[0mdb\u001b[0m\u001b[0;34m.\u001b[0m\u001b[0mcursor\u001b[0m\u001b[0;34m(\u001b[0m\u001b[0;34m)\u001b[0m\u001b[0;34m\u001b[0m\u001b[0;34m\u001b[0m\u001b[0m\n\u001b[0m\u001b[1;32m      3\u001b[0m \u001b[0mcursor\u001b[0m\u001b[0;34m.\u001b[0m\u001b[0mexecute\u001b[0m\u001b[0;34m(\u001b[0m\u001b[0;34m'''SELECT * FROM User '''\u001b[0m\u001b[0;34m)\u001b[0m\u001b[0;34m\u001b[0m\u001b[0;34m\u001b[0m\u001b[0m\n\u001b[1;32m      4\u001b[0m \u001b[0mp\u001b[0m \u001b[0;34m=\u001b[0m \u001b[0mcursor\u001b[0m\u001b[0;34m.\u001b[0m\u001b[0mfetchall\u001b[0m\u001b[0;34m(\u001b[0m\u001b[0;34m)\u001b[0m\u001b[0;34m\u001b[0m\u001b[0;34m\u001b[0m\u001b[0m\n\u001b[1;32m      5\u001b[0m \u001b[0;32mfor\u001b[0m \u001b[0mx\u001b[0m \u001b[0;32min\u001b[0m \u001b[0mp\u001b[0m\u001b[0;34m:\u001b[0m\u001b[0;34m\u001b[0m\u001b[0;34m\u001b[0m\u001b[0m\n",
      "\u001b[0;31mAttributeError\u001b[0m: 'NoneType' object has no attribute 'cursor'"
     ]
    }
   ],
   "source": [
    "db = mysql.connector.connect(\n",
    "    host = \"localhost\",\n",
    "    user = \"root\",\n",
    "    passwd = \"970311\",\n",
    "    db=\"pj1\"\n",
    ")\n",
    "cursor = db.cursor()\n",
    "cursor.execute('SELECT * FROM Users ')\n",
    "p = cursor.fetchall()\n",
    "for x in p:\n",
    "    print(x)\n",
    "db.commit()"
   ]
  },
  {
   "cell_type": "markdown",
   "metadata": {},
   "source": [
    "# David's code"
   ]
  },
  {
   "cell_type": "code",
   "execution_count": null,
   "metadata": {},
   "outputs": [],
   "source": [
    "#If User is admin code here then allow this option\n",
    "\n",
    "nm = input(\"Choose a User name: \") \n",
    "pw = input(\"Choose a Password: \")\n",
    "login = (nm,pw)\n",
    "add_user()"
   ]
  },
  {
   "cell_type": "markdown",
   "metadata": {},
   "source": [
    "# Admin Menu1"
   ]
  },
  {
   "cell_type": "code",
   "execution_count": 12,
   "metadata": {},
   "outputs": [],
   "source": [
    "def main():\n",
    "    def menu(): # put in admin login to run this function\n",
    "        print(\"What do you want to do?\")\n",
    "        print()\n",
    "        inputmenu = input(\"Press the following numbers for certain features \\n\\\n",
    "                [1] Add a New User \\n\\\n",
    "                [2] Add a New Venue \\n\\\n",
    "                [3] Start an Event \\n\\\n",
    "                [4] Display Time Slot availability at Venue \\n\\\n",
    "                [5] Display All Venues in time slots \\n\\\n",
    "                [6] Select when and where you want to play \\n\\\n",
    "                [7] User joins an event \\n\\\n",
    "                [8] Remove an Event \\n\\\n",
    "                [9] Quit the application\")   \n",
    "        if inputmenu == '1':\n",
    "            def add_user(): \n",
    "                emailverifier = int(0) #used for verification\n",
    "                while emailverifier == 0:  \n",
    "                    email = input(\"What is your email: \") \n",
    "                    emailverify = (\"Verify Email: \")\n",
    "                    if email == emailverify:\n",
    "                        emailverifier = 1\n",
    "                pw = input(\"Choose a Password: \")\n",
    "                FirstName = input('Please input your first name: ') \n",
    "                LastName = input('Please input your Last name: ') \n",
    "                Street_Address = input('Please input your Street Address: ') \n",
    "                City = input('Please input your city location: ') \n",
    "                State = input('Please input your state residence: ') \n",
    "                #Add state verifier here\n",
    "                Zip_Code = input('Please input your Zip_Code: ') \n",
    "                \n",
    "                admin = input(str('Admin (True or False)?'))\n",
    "                \n",
    "                login = admin, email,FirstName,LastName, pw, Street_Address,City, State,Zip_Code\n",
    "                #add this username,pwd, and admin\n",
    "                c.execute('''INSERT INTO User(Admin, email, emailFirst_Name,Last_Name, Admin) VALUES(%s,%s,%s,%s,%s,%s,%s,%s); ''')\n",
    "                db.commit()\n",
    "\n",
    "            add_user()\n",
    "        if inputmenu == '2':\n",
    "                Venue_Name_add = input(\"What Venue would you like to add? (Venue-Court-Court)\")\n",
    "                Venue_Event_Capacity = input(\"What is the Event Capacity? \")\n",
    "                Availability_Start = input(\"What time do you want bookings available to start everyday? \\n\\\n",
    "                                        Please enter in *insert format type* \") # how do we do it\n",
    "                Availability_End = input(\"What time do you want bookings available to end everyday? \\n\\\n",
    "                                        Please enter in *insert format type*\")\n",
    "                \n",
    "                #add data\n",
    "\n",
    "                #converion of availability start end\n",
    "                int_Availability_start = int()\n",
    "                int_Availability_end = int()\n",
    "\n",
    "\n",
    "                print(\"Thank you for adding a Venue!\")\n",
    "     #   if inputmenu == '3':\n",
    "            \n",
    "        if inputmenu == '4':\n",
    "            #Define a function for User Verison\n",
    "            VenueName=input('What venue would you like to search?')\n",
    "            sql_v=\"SELECT events.TimeStart, events.TimeEnd from events (inner join venue where Venues.Venue=%s)%('VenueName')\"\n",
    "            v_q = c.fetchall(sql_v)\n",
    "            for x in v_p:\n",
    "                print(x)\n",
    "            \n",
    "            #Select \n",
    "            main()\n",
    "        if inputmenu == '5':\n",
    "\n",
    "            #Define a function for User Verison\n",
    "            Time=input('Please select a time')\n",
    "            sql_t=\"select Venues.Venue, events.TimeStart, events.TimeEnd from events (inner join Venue where %s>events.TimeStart and %s<events.TimeEnd)%(Time)\"\n",
    "            t_q=c.fetchall(sql_t)\n",
    "            for x in t_q:\n",
    "                print(x)\n",
    "            main()\n",
    "        if inputmenu == '6':\n",
    "            #Define a function for User Verison\n",
    "            #not me\n",
    "            print('Hello')\n",
    "        if inputmenu == '7':\n",
    "            #Define a function for User Verison\n",
    "            print('Hello')\n",
    "\n",
    "        if inputmenu == '8':\n",
    "            Venue_match = input(\"[8] Where is your event? \")\n",
    "            Sport = input(\"[8] What sport are you playing? \")\n",
    "            database_venue = str(c.execute(\"\"\"SELECT * FROM event WHERE Venue == Venue_Delete AND Sport  == Sport;\"\"\").format)\n",
    "            \n",
    "            print()\n",
    "            print()\n",
    "            event = input(\"[Which event do you want to delete\")\n",
    "            \n",
    "            \n",
    "            if Venue_Delete == database_venue : #Venuematches\n",
    "                c.execute(\"\"\"\"\"\")\n",
    "            else:\n",
    "                print('')\n",
    "            \n"
   ]
  },
  {
   "cell_type": "code",
   "execution_count": 13,
   "metadata": {},
   "outputs": [
    {
     "ename": "SyntaxError",
     "evalue": "invalid character in identifier (<ipython-input-13-d76d343d6f93>, line 60)",
     "output_type": "error",
     "traceback": [
      "\u001b[1;36m  File \u001b[1;32m\"<ipython-input-13-d76d343d6f93>\"\u001b[1;36m, line \u001b[1;32m60\u001b[0m\n\u001b[1;33m    date = input(“What date do you want to search? (Please input in MM/DD format)“)\u001b[0m\n\u001b[1;37m                     ^\u001b[0m\n\u001b[1;31mSyntaxError\u001b[0m\u001b[1;31m:\u001b[0m invalid character in identifier\n"
     ]
    }
   ],
   "source": [
    "# put in admin login to run this function\n",
    "admin = input('Admin? Y or N')\n",
    "if admin == 'Y':\n",
    "\n",
    "    inputmenu = input(\"Press the following numbers for certain features \\n\\\n",
    "            [1] Add a New User \\n\\\n",
    "            [2] Add a New Venue \\n\\\n",
    "            [3] Start an Event \\n\\\n",
    "            [4] Display Time Slot availability at Venue \\n\\\n",
    "            [5] Display All Venues in time slots \\n\\\n",
    "            [6] Select when and where you want to play \\n\\\n",
    "            [7] User joins an event \\n\\\n",
    "            [8] Remove an Event \\n\\\n",
    "            [9] Quit the application\")   \n",
    "    if inputmenu == '1': #gg\n",
    "            emailverifier = int(0) #used for verification\n",
    "            email = input(\"What is your email: \") \n",
    "            while emailverifier == 0:  \n",
    "                emailverify = input(\"Verify Email: \")\n",
    "                if email == emailverify:\n",
    "                    emailverifier += 1\n",
    "            pw = input(\"Choose a Password: \")\n",
    "            FirstName = input('Please input your first name: ') \n",
    "            LastName = input('Please input your Last name: ') \n",
    "            Street_Address = input('Please input your Street Address: ') \n",
    "            City = input('Please input your city location: ') \n",
    "            State = input('Please input your state residence: ') \n",
    "            #Add state verifier here\n",
    "            Zip_Code = input('Please input your Zip_Code: ') \n",
    "\n",
    "            admin = input(str('Admin (True or False)?'))\n",
    "\n",
    "            login = [admin, email,FirstName,LastName, pw, Street_Address,City, State,Zip_Code]\n",
    "            #add this username,pwd, and admin\n",
    "            c.execute('''INSERT INTO User(Admin, Email, FirstName,LastName, Password,StreetAddress,City,State,ZipCode) VALUES(%s,%s,%s,%s,%s,%s,%s,%s); '''\n",
    "                      %s(admin, email,FirstName,LastName, pw, Street_Address,City, State,Zip_Code))\n",
    "            db.commit()\n",
    "\n",
    "    if inputmenu == '2': #gg\n",
    "            Venue_Name = input(\"What Venue would you like to add? (Venue-Court-Court)\")\n",
    "            Venue_Event_Capacity = input(\"What is the Event Capacity? \")\n",
    "            Availability_Start = input(\"What time do you want bookings available to start everyday? \\n\\\n",
    "                                    Please enter in *insert format type* \") # how do we do it\n",
    "            Availability_End = input(\"What time do you want bookings available to end everyday? \\n\\\n",
    "                                    Please enter in *insert format type*\")\n",
    "    #         import datetime\n",
    "    #         a = datetime.datetime.now()\n",
    "    #         b = datetime.datetime.now()\n",
    "    #         c = b - a\n",
    "    #         datetime.timedelta(0, 8, 562000)\n",
    "\n",
    "\n",
    "            c.execute('''INSERT INTO Venues(VenueName, EventCapacity, AvailabilityStart, AvailabilityEnd) VALUES(%s,%s,%s,%s);'''\n",
    "                      %s(Venue_Name,Venue_Event_Capacity,Availability_Start,Availability_End))\n",
    "            db.commit()\n",
    "\n",
    "            print(\"Thank you for adding a Venue!\")\n",
    "\n",
    "    if inputmenu == '3': #gg\n",
    "            date = input(“What date do you want to search? (Please input in MM/DD format)“)\n",
    "            time = input(“What time do you prefer? (Please input in 24hr format)“)\n",
    "            query = “2019-“+date[0:2]+“-”+date[3:5]+' ’+time\n",
    "            print(query)\n",
    "            c.execute(‘SELECT EventName, Venue FROM Events INNER JOIN Venues ON Venues.VenueID = Events.VenueID \\\n",
    "                     WHERE Time_Start = %s’ %(query))\n",
    "            p1 = c.fetchall()\n",
    "            for x in p1:\n",
    "             print(x)\n",
    "\n",
    "    if inputmenu == '4': #gg\n",
    "            #Define a function for User Verison\n",
    "            c.execute(\"\"\"SELECT Venue from VENUE where \"\"\")\n",
    "            v_q = c.fetchall()\n",
    "            for x in p:\n",
    "                print(x)\n",
    "            venue_select = ('What venue do you want to select ?')\n",
    "            print()\n",
    "            #Display options\n",
    "            for i in venue:\n",
    "                print(\"ID = \", row[0],)\n",
    "                print(\"Name = \", row[1])\n",
    "            print('''''')\n",
    "\n",
    "            c.execute('''SELECT * From VENUE Where = (venue_select)''') #make sure venue select work\n",
    "            #for i in \n",
    "            #Select \n",
    "\n",
    "    if inputmenu == '5': #gg\n",
    "            #Define a function for User Verison\n",
    "            #not me\n",
    "            Time=input('Please select a time')\n",
    "                sql_t=\"select Venues.Venue, events.TimeStart, events.TimeEnd from events (inner join Venue where %s>events.TimeStart and %s<events.TimeEnd\")%(Time)\n",
    "                t_q=c.fetchall(sql_t)\n",
    "                for x in t_q\n",
    "                print(x)\n",
    "    if inputmenu == '6':\n",
    "                    #If it is admin\n",
    "            UC = input(\"User's ID: \")\n",
    "            #If it is already user\n",
    "            cursor.execute('''SELECT PKUserID FROM Users WHERE Email = %s''',(email))\n",
    "            UC = cursor.fetchall()\n",
    "\n",
    "            EN = input(\"What is the Event Name?\")\n",
    "            SP = input(\"What is the Sport? (Please choose from the following)\\n (Basketball, Badminton, Soccer)\")\n",
    "            SP = SP.lower()\n",
    "            ED = input(\"Please add some Description.\")\n",
    "            UC = input(\"How many people can play?\")\n",
    "            TS = input(\"When will the event start? (Please use MM/DD/HH:MM:SS format)\")\n",
    "            TE = input(\"How long will the event last?\")\n",
    "            TE = TE + TS\n",
    "            V = input(\"Where will the event take place? (Venue-Court-Court Number)\")\n",
    "            V = V.lower()\n",
    "            cursor.execute('''SELECT PKVenueID FROM Venues WHERE Venue = %s'''%(V))\n",
    "            p = cursor.fetchall()\n",
    "            if p == NULL:\n",
    "                venue_add()\n",
    "                cursor.execute('''SELECT MAX(PKVenueID) FROM Venues''')\n",
    "                V = cursor.fetchall()\n",
    "            else:\n",
    "                V = p\n",
    "            cursor.execute('''SELECT SportID FROM Sport WHERE Sport_Name = %s'''%(SP))\n",
    "            SP = cursor.fetchall()\n",
    "            try:\n",
    "                cursor.execute('''INSERT INTO Events(EventName, EventDescription, UserCapacity, \\\n",
    "                            TimeStart, TimeEnd, FKVenueID, FKTagID, FKUserCreator)  \\\n",
    "                            VALUES (%s,%s,%s,%s,%s,%s,%s,%s)'''%(SP,EN,ED,UC,TS,TE,V,Null,UC))\n",
    "                print(\"Event Added Successfully!\")\n",
    "            except:\n",
    "                print(\"Error Occurs\")\n",
    "    if inputmenu == '7': #need to be done \n",
    "            #Add a Query for User ID and Event ID to verify the selection\n",
    "            date = input(\"What date do you want to search? Please input in MM/DD format\")\n",
    "            time = input(\"What time do you prefer? Please input in 24hr format\")\n",
    "            query = \"2019-\"+date[0:2]+\"-\"+date[3:5]+''+time\n",
    "            print(query)\n",
    "            c.execute(\"SELECT Event_Name, Venue FROM Events INNER JOIN Venues ON Venues.VenueID = Events.VenueID \\\n",
    "                    WHERE Time_Start = %s’ %(query)\")\n",
    "            p1 = c.fetchall()\n",
    "            for x in p1:\n",
    "            print(x)\n",
    "    if inputmenu == '8':\n",
    "            Venue_match = input(\"[8] Where is your event? \")\n",
    "            Sport = input(\"[8] What sport are you playing? \")\n",
    "            database_venue = str(c.execute(\"\"\"SELECT * FROM event WHERE Venue == Venue_Delete AND Sport  == Sport;\"\"\").format)\n",
    "\n",
    "            print()\n",
    "            print()\n",
    "            event = input(\"Which event do you want to delete\")\n",
    "\n",
    "\n",
    "            #if Venue_Delete == database_venue : #Venuematches\n",
    "             #   c.execute(\"\"\"\"\"\")\n",
    "            #else:\n",
    "             #   print('')\n",
    "if admin == 'N':\n",
    "    "
   ]
  },
  {
   "cell_type": "markdown",
   "metadata": {},
   "source": [
    "# User Menu"
   ]
  },
  {
   "cell_type": "code",
   "execution_count": 1,
   "metadata": {},
   "outputs": [
    {
     "ename": "SyntaxError",
     "evalue": "invalid syntax (<ipython-input-1-9e78f0e3bc76>, line 1)",
     "output_type": "error",
     "traceback": [
      "\u001b[1;36m  File \u001b[1;32m\"<ipython-input-1-9e78f0e3bc76>\"\u001b[1;36m, line \u001b[1;32m1\u001b[0m\n\u001b[1;33m    def menu(login==i):\u001b[0m\n\u001b[1;37m                   ^\u001b[0m\n\u001b[1;31mSyntaxError\u001b[0m\u001b[1;31m:\u001b[0m invalid syntax\n"
     ]
    }
   ],
   "source": [
    "def menu(login==i):\n",
    "    inputmenu = input(\"Press the following numbers for certain features \\n\\\n",
    "            [1] Start an Event \\n\\\n",
    "            [2] Display Time Slot availability at Venue \\n\\\n",
    "            [3] Display All Venues in time slots \\n\\\n",
    "            [4] Select when and where you want to play \\n\\\n",
    "            [5] User joins an event \")   \n",
    "    if inputmenu == '1':\n",
    "        \n",
    "    if inputmenu == '2':\n",
    "        \n",
    "    if inputmenu == '3':\n",
    "        \n",
    "    if inputmenu == '4':\n",
    "        \n",
    "    if inputmenu == '5':\n",
    "menu()"
   ]
  },
  {
   "cell_type": "code",
   "execution_count": 1,
   "metadata": {},
   "outputs": [
    {
     "name": "stdout",
     "output_type": "stream",
     "text": [
      "Press the following numbers for certain features \n",
      "        [1] Start an Event \n",
      "        [2] Display Time Slot availability at Venue \n",
      "        [3] Display All Venues in time slots \n",
      "        [4] Select when and where you want to play \n",
      "        [5] User joins an event 3\n"
     ]
    }
   ],
   "source": [
    "\n",
    "inputmenu = input(\"Press the following numbers for certain features \\n\\\n",
    "        [1] Start an Event \\n\\\n",
    "        [2] Display Time Slot availability at Venue \\n\\\n",
    "        [3] Display All Venues in time slots \\n\\\n",
    "        [4] Select when and where you want to play \\n\\\n",
    "        [5] User joins an event \")   \n"
   ]
  },
  {
   "cell_type": "code",
   "execution_count": null,
   "metadata": {},
   "outputs": [],
   "source": []
  }
 ],
 "metadata": {
  "kernelspec": {
   "display_name": "Python 3",
   "language": "python",
   "name": "python3"
  },
  "language_info": {
   "codemirror_mode": {
    "name": "ipython",
    "version": 3
   },
   "file_extension": ".py",
   "mimetype": "text/x-python",
   "name": "python",
   "nbconvert_exporter": "python",
   "pygments_lexer": "ipython3",
   "version": "3.7.3"
  }
 },
 "nbformat": 4,
 "nbformat_minor": 2
}
