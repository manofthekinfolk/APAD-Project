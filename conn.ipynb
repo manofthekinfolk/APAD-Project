{
 "cells": [
  {
   "cell_type": "code",
   "execution_count": 25,
   "metadata": {},
   "outputs": [
    {
     "name": "stdout",
     "output_type": "stream",
     "text": [
      "fail to create tables table States already exists\n"
     ]
    }
   ],
   "source": [
    "import sqlite3\n",
    "# db connect\n",
    "mydb = sqlite3.connect(\"C:/Users/Licxf/pj1.db\")\n",
    "\n",
    "mycursor = mydb.cursor()\n",
    "#create db/table\n",
    "#sql1=\"create database pj1;\"\n",
    "#sql2=\"use pj1;\"\n",
    "sql3=\"CREATE TABLE States(StateID INT PRIMARY KEY, StateName Varchar(30) UNIQUE NOT NULL);\"\n",
    "sql4=\"CREATE TABLE Users(PKUserID INT PRIMARY KEY, Admin BOOL not NULL,FirstName VARCHAR(50) Not NULL, LastName VARCHAR(30) NOT NULL, Email VARCHAR(50) unique NOT NULL,Password VARCHAR(50) NOT NULL, StreetAddress VARCHAR(100) NOT NULL, City VARCHAR(50) NOT NULL,FKStateID INT, ZipCode VARCHAR(10));\"\n",
    "sql5=\"CREATE TABLE Rating(Rating DECIMAL(1,1) NOT NULL,FKEventID INT, FKUserID int);\"\n",
    "sql6=\"CREATE TABLE events(PKEventID INT AUTOINCREMENT PRIMARY KEY,FKSportsID INT, EventName VARCHAR(50), EventDescription VARCHAR(1000), UserCapacity INT NOT NULL, TimeStart datetime,TimeEnd datetime, FKVenueID INT, FKTagID INT);\"\n",
    "sql7=\"CREATE TABLE Tags(TagID INT PRIMARY KEY NOT NULL,TagName VARCHAR(20) NOT NULL);\"\n",
    "sql8=\"CREATE TABLE Venues(PKVenueID INT NOT NULL AUTOINCREMENT PRIMARY KEY, Venue VARCHAR(100) NOT NULL, EventCapacity INT NOT NULL, AvailabilityStart datetime,AvailabilityEnd datetime);\"\n",
    "sql9=\"CREATE TABLE UsersEvent(PKUsersEvent INT NOT NULL PRIMARY KEY,FKUserID INT, FKEventID INTEGER);\"\n",
    "sql10=\"CREATE TABLE Sports(SportID INT PRIMARY KEY, SportName VARCHAR(50));\"\n",
    "try:\n",
    "#    mycursor.execute(sql1)\n",
    "#    mycursor.execute(sql2)\n",
    "    mycursor.execute(sql3)\n",
    "    mycursor.execute(sql4)\n",
    "    mycursor.execute(sql5)\n",
    "    mycursor.execute(sql6)\n",
    "    mycursor.execute(sql7)\n",
    "    mycursor.execute(sql8)\n",
    "    mycursor.execute(sql9)\n",
    "    mycursor.execute(sql10)\n",
    "except Exception as e:\n",
    "    mydb.rollback()\n",
    "    print('fail to create tables', e)\n",
    "else:\n",
    "        mydb.commit()\n",
    "        print('succeed')\n",
    "mycursor.close()\n",
    "mydb.close()"
   ]
  },
  {
   "cell_type": "code",
   "execution_count": 26,
   "metadata": {},
   "outputs": [
    {
     "name": "stdout",
     "output_type": "stream",
     "text": [
      "fail to create foriegn keys near \"constraint\": syntax error\n"
     ]
    }
   ],
   "source": [
    "import sqlite3\n",
    "# db connect\n",
    "mydb = sqlite3.connect(\"C:/Users/Licxf/pj1.db\")\n",
    "\n",
    "mycursor = mydb.cursor()\n",
    "\n",
    "#add foreign key\n",
    "#sql_1=\"use pj1;\"    \n",
    "sql_2=\"alter table Users add constraint fk_states foreign key (FKStateID) references States(StateID) on update restrict on delete set null;\"\n",
    "sql_3=\"alter table Rating add constraint fk_eventid foreign key (FKEventID) references events(PKEventID) on update restrict on delete set null;\"\n",
    "sql_4=\"alter table Rating add constraint fk_userid foreign key (FKUserID) references Users(PKUSerID) on update restrict on delete set null;\"\n",
    "sql_5=\"alter table events add constraint fk_venueid foreign key (FKVenueID) references Venues(PKVenueID) on update restrict on delete set null;\"\n",
    "sql_6=\"alter table events add constraint fk_tagid foreign key (FKTagID) references Tags(TagID) on update restrict on delete set null;\"\n",
    "sql_7=\"alter table UsersEvent add constraint fk_euserid foreign key (FKUserID) references Users(PKUserID) on update restrict on delete set null;\"\n",
    "sql_8=\"alter table UsersEvent add constraint fk_eevnetid foreign key (FKEventID) references Events(PKEventID) on update restrict on delete set null;\"\n",
    "try:\n",
    "#    mycursor.execute(sql_1)\n",
    "    mycursor.execute(sql_2)\n",
    "    mycursor.execute(sql_3)\n",
    "    mycursor.execute(sql_4)\n",
    "    mycursor.execute(sql_5)\n",
    "    mycursor.execute(sql_6)\n",
    "    mycursor.execute(sql_7)\n",
    "    mycursor.execute(sql_8)\n",
    "except Exception as e:\n",
    "    mydb.rollback()\n",
    "    print('fail to create foriegn keys', e)\n",
    "else:\n",
    "        mydb.commit()\n",
    "        print('succeed')\n",
    "mycursor.close()\n",
    "mydb.close()\n"
   ]
  },
  {
   "cell_type": "code",
   "execution_count": 15,
   "metadata": {},
   "outputs": [],
   "source": [
    "import mysql.connector\n",
    "mydb = mysql.connector.connect(\n",
    "    host = \"localhost\",\n",
    "    user = \"root\",\n",
    "    passwd = \"970311\",\n",
    "    db=\"pj1\"\n",
    ")\n",
    "cursor = mydb.cursor()"
   ]
  },
  {
   "cell_type": "code",
   "execution_count": 18,
   "metadata": {},
   "outputs": [
    {
     "name": "stdout",
     "output_type": "stream",
     "text": [
      "User's ID: 1\n",
      "What is the Event Name?sda\n",
      "What is the Sport? (Please choose from the following)\n",
      " (Basketball, Badminton, Soccer)Soccer\n",
      "Please add some Descriptiondasd\n",
      "How many people can play?10\n",
      "When will the event start? (Please use MM/DD/HH:MM:SS format)2019-07-10 19\n",
      "How long will the event last?1\n",
      "Where will the event take place? (Venue-Court-Court Number)zilkerpark\n",
      "Error Occurs\n"
     ]
    }
   ],
   "source": [
    "UC = input(\"User's ID: \")\n",
    "\n",
    "#If it is already user\n",
    "#cursor.execute('''SELECT PKUserID FROM Users WHERE Email = %s''',(email))\n",
    "#UC = cursor.fetchall()\n",
    "EN = input(\"What is the Event Name?\")\n",
    "SP = input(\"What is the Sport? (Please choose from the following)\\n (Basketball, Badminton, Soccer)\")\n",
    "SP = SP.lower()\n",
    "ED = input(\"Please add some Description\")\n",
    "UC = input(\"How many people can play?\")\n",
    "TS = input(\"When will the event start? (Please use MM/DD/HH:MM:SS format)\")\n",
    "TE = input(\"How long will the event last?\")\n",
    "TE = TE + TS\n",
    "V = input(\"Where will the event take place? (Venue-Court-Court Number)\")\n",
    "V = V.lower()\n",
    "cursor.execute('SELECT PKVenueID FROM Venues WHERE Venue = \"%s\"'%(V))\n",
    "p = cursor.fetchall()\n",
    "if p == None:\n",
    "    venue_add()\n",
    "    cursor.execute('SELECT MAX(PKVenueID) FROM Venues')\n",
    "    V = cursor.fetchall()\n",
    "else:\n",
    "    V = p\n",
    "cursor.execute('SELECT SportID FROM Sports WHERE SportName = \"%s\"'%(SP))\n",
    "SP = cursor.fetchall()\n",
    "try:\n",
    "    cursor.execute('INSERT INTO Events(EventName, EventDescription, UserCapacity, \\\n",
    "                TimeStart, TimeEnd, FKVenueID, FKTagID)  \\\n",
    "                VALUES (\"%s\",\"%s\",%s,\"%s\",\"%s\",%s,%s,%s)'%(SP,EN,ED,UC,TS,TE,V,\"null\"))\n",
    "    print(\"Event Added Successfully!\")\n",
    "except:\n",
    "    print(\"Error Occurs\")"
   ]
  },
  {
   "cell_type": "code",
   "execution_count": 3,
   "metadata": {},
   "outputs": [
    {
     "name": "stdout",
     "output_type": "stream",
     "text": [
      "What date do you want to search? (Please input in MM/DD format)07/21\n",
      "What time do you prefer? (Please input in 24hr format)18\n"
     ]
    }
   ],
   "source": [
    "mydb= mysql.connector.connect(\n",
    "    host = \"localhost\",\n",
    "    user = \"root\",\n",
    "    passwd = \"970311\")\n",
    "c=mydb.cursor()\n",
    "date = input(\"What date do you want to search? (Please input in MM/DD format)\")\n",
    "time = input(\"What time do you prefer? (Please input in 24hr format)\")\n",
    "query = '2019-'+date[0:2]+'-'+date[3:5]+' '+time\n",
    "#print(query)\n",
    "c.execute(\"use pj1;\")\n",
    "c.execute('SELECT Events.EventDescription,Venues.Venue FROM Events INNER JOIN Venues ON Venues.PKVenueID = Events.FKVenueID WHERE Events.TimeStart = \"%s\"'%(query))\n",
    "p1 = c.fetchall()\n",
    "for x in p1:\n",
    "        print(x)"
   ]
  }
 ],
 "metadata": {
  "kernelspec": {
   "display_name": "Python 3",
   "language": "python",
   "name": "python3"
  },
  "language_info": {
   "codemirror_mode": {
    "name": "ipython",
    "version": 3
   },
   "file_extension": ".py",
   "mimetype": "text/x-python",
   "name": "python",
   "nbconvert_exporter": "python",
   "pygments_lexer": "ipython3",
   "version": "3.7.3"
  }
 },
 "nbformat": 4,
 "nbformat_minor": 2
}
