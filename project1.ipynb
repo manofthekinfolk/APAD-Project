{
 "cells": [
  {
   "cell_type": "markdown",
   "metadata": {},
   "source": [
    "# Project 1 Jupyter File\n"
   ]
  },
  {
   "cell_type": "markdown",
   "metadata": {},
   "source": [
    "Create Table"
   ]
  },
  {
   "cell_type": "code",
   "execution_count": 13,
   "metadata": {},
   "outputs": [],
   "source": [
    "import sqlite3\n",
    "\n",
    "def connect(db=\"pj1.db\"):\n",
    "    try:\n",
    "        con = sqlite3.connect(db)\n",
    "        return con\n",
    "    except:\n",
    "        print(\"Unable to Connect\")\n",
    "        return None\n",
    "\n",
    "\n",
    "def clear_table(table):\n",
    "    c.execute('''DELETE FROM %s'''% (table))\n",
    "    db.commit()\n",
    "    return None\n",
    "\n",
    "def add_user(FN=\"T\",LN=\"E\",admin=0):\n",
    "    c.execute('''SELECT ID FROM User WHERE ''')\n",
    "    c.execute('''INSERT INTO User(ID,First_Name,Last_Name, Admin) VALUES(%s,%s,%s,%s); '''%(ID,FN,LN,admin))\n",
    "    db.commit()\n",
    "\n",
    "\n",
    "\n",
    "db = sqlite3.connect(\"User\\jass\\sqlite\\pj1.db\")    \n",
    "\n",
    "c = db.cursor()\n",
    "\n",
    "\n",
    "c.execute('''INSERT INTO User(ID, FN, LN, Admin) VALUES(1,\"C\",\"C\",1); ''')\n",
    "y = c.fetchall()\n",
    "for x in y:\n",
    "    print(x)\n",
    "    \n",
    "db.commit()"
   ]
  },
  {
   "cell_type": "code",
   "execution_count": 14,
   "metadata": {},
   "outputs": [
    {
     "name": "stdout",
     "output_type": "stream",
     "text": [
      "(1, 'A', 'B', 1)\n",
      "(1, 'A', 'B', 1)\n",
      "(1, 'A', 'B', 1)\n",
      "(1, 'A', 'B', 1)\n",
      "(1, 'A', 'B', 1)\n",
      "(1, 'A', 'C', 0)\n",
      "(1, 'A', 'A', 1)\n",
      "(1, 'C', 'A', 1)\n",
      "(1, 'C', 'C', 1)\n"
     ]
    }
   ],
   "source": [
    "c.execute(\"\"\"SELECT * FROM User\"\"\")\n",
    "p1 = c.fetchall()\n",
    "for x in p1:\n",
    "    print(x)\n",
    "db.commit()"
   ]
  },
  {
   "cell_type": "code",
   "execution_count": 49,
   "metadata": {},
   "outputs": [
    {
     "name": "stdout",
     "output_type": "stream",
     "text": [
      "None\n"
     ]
    }
   ],
   "source": [
    "print(c.lastrowid)\n",
    "#c.execute(\"\"\"CREATE TABLE User(\n",
    "#            ID,\n",
    "#            FN,\n",
    "#            LN,\n",
    "#            Admin)\"\"\")"
   ]
  },
  {
   "cell_type": "markdown",
   "metadata": {},
   "source": [
    "# Verify Admin Status"
   ]
  },
  {
   "cell_type": "code",
   "execution_count": 47,
   "metadata": {},
   "outputs": [
    {
     "name": "stdout",
     "output_type": "stream",
     "text": [
      "User name: A\n",
      "Password: A\n",
      "[('A', 'B'), ('A', 'B'), ('A', 'B'), ('A', 'B'), ('A', 'B'), ('A', 'A'), ('C', 'A'), ('C', 'C')]\n",
      "[('C',), ('C',), ('C',), ('C',), ('C',), ('C',), ('C',), ('C',), ('C',), ('C',), ('C',)]\n",
      "('A', 'A')\n",
      "Login Success\n",
      "User\n"
     ]
    }
   ],
   "source": [
    "nm = input(\"User name: \") \n",
    "pw = input(\"Password: \")\n",
    "login = (nm,pw)\n",
    "#placeholder= '?' # For SQLite. See DBAPI paramstyle.\n",
    "#placeholders= ', '.join(placeholder for unused in l)\n",
    "querya = [] #query admin list\n",
    "queryall = [] #query all and declares as list\n",
    "queryn = [] #query users\n",
    "c.execute('SELECT FN,LN FROM User WHERE TRUE;')\n",
    "p1 = c.fetchall()\n",
    "for x in p1:\n",
    "    queryall.append(x)\n",
    "c.execute('SELECT FN,LN FROM User WHERE Admin == 1;')\n",
    "p1 = c.fetchall()\n",
    "for x in p1:\n",
    "    querya.append(x)\n",
    "c.execute('SELECT LN FROM User WHERE Admin == 0;')\n",
    "p1 = c.fetchall()\n",
    "for x in p1:\n",
    "    queryp.append(x)\n",
    "#c.execute(query, l)\n",
    "\n",
    "print(querya)\n",
    "print(queryp)\n",
    "print(login)\n",
    "\n",
    "            \n",
    "for i in queryall:\n",
    "    if login == i:\n",
    "        print(\"Login Success\")\n",
    "        for j in querya:\n",
    "            if login == j:\n",
    "                print(\"Admin\")\n",
    "                break\n",
    "            else:\n",
    "                print(\"User\")\n",
    "                break\n",
    "            \n",
    "        \n",
    "        \n",
    "\n",
    "#print(\"Hi Admin\")\n",
    "#if ((check(queryn, nm)) or (check(queryp, pw))):\n",
    "#    print(\"Success\")\n",
    "#else:\n",
    "#    print(\"Try Again\")\n"
   ]
  },
  {
   "cell_type": "code",
   "execution_count": null,
   "metadata": {},
   "outputs": [],
   "source": []
  },
  {
   "cell_type": "code",
   "execution_count": 46,
   "metadata": {},
   "outputs": [
    {
     "ename": "ModuleNotFoundError",
     "evalue": "No module named 'MySQLdb'",
     "output_type": "error",
     "traceback": [
      "\u001b[0;31m---------------------------------------------------------------------------\u001b[0m",
      "\u001b[0;31mModuleNotFoundError\u001b[0m                       Traceback (most recent call last)",
      "\u001b[0;32m<ipython-input-46-1ca246cdd999>\u001b[0m in \u001b[0;36m<module>\u001b[0;34m\u001b[0m\n\u001b[0;32m----> 1\u001b[0;31m \u001b[0;32mimport\u001b[0m \u001b[0mMySQLdb\u001b[0m\u001b[0;34m\u001b[0m\u001b[0;34m\u001b[0m\u001b[0m\n\u001b[0m",
      "\u001b[0;31mModuleNotFoundError\u001b[0m: No module named 'MySQLdb'"
     ]
    }
   ],
   "source": [
    "import MySQLdb\n"
   ]
  },
  {
   "cell_type": "code",
   "execution_count": null,
   "metadata": {},
   "outputs": [],
   "source": []
  },
  {
   "cell_type": "code",
   "execution_count": 54,
   "metadata": {},
   "outputs": [
    {
     "name": "stdout",
     "output_type": "stream",
     "text": [
      "Username: [], password []\n"
     ]
    }
   ],
   "source": [
    "import sys\n",
    "import getpass\n",
    "\n",
    "if sys.stdin.isatty():\n",
    "   print(\"Enter credentials\")\n",
    "   username = raw_input(\"Username: \")\n",
    "   password = getpass.getpass(\"Password: \")\n",
    "else:\n",
    "   username = sys.stdin.readline().rstrip()\n",
    "   password = sys.stdin.readline().rstrip()\n",
    "\n",
    "print(\"Username: [%s], password [%s]\" % (username, password))"
   ]
  },
  {
   "cell_type": "code",
   "execution_count": null,
   "metadata": {},
   "outputs": [],
   "source": [
    "c.execute('''INSERT INTO User(ID,First_Name,Last_Name, Admin) VALUES(1,\"A\",\"B\",1); ''')\n",
    "db.commit"
   ]
  },
  {
   "cell_type": "code",
   "execution_count": null,
   "metadata": {},
   "outputs": [],
   "source": [
    "c.execute('''INSERT INTO User(ID,First_Name,Last_Name, Admin) VALUES(1,\"A\",\"B\",1); ''')\n",
    "db.commit"
   ]
  },
  {
   "cell_type": "code",
   "execution_count": 13,
   "metadata": {},
   "outputs": [
    {
     "ename": "OperationalError",
     "evalue": "near \"(\": syntax error",
     "output_type": "error",
     "traceback": [
      "\u001b[0;31m---------------------------------------------------------------------------\u001b[0m",
      "\u001b[0;31mOperationalError\u001b[0m                          Traceback (most recent call last)",
      "\u001b[0;32m<ipython-input-13-20d3ba017b21>\u001b[0m in \u001b[0;36m<module>\u001b[0;34m\u001b[0m\n\u001b[0;32m----> 1\u001b[0;31m \u001b[0mclear_table\u001b[0m\u001b[0;34m(\u001b[0m\u001b[0;34m\"User\"\u001b[0m\u001b[0;34m)\u001b[0m\u001b[0;34m\u001b[0m\u001b[0;34m\u001b[0m\u001b[0m\n\u001b[0m",
      "\u001b[0;32m<ipython-input-10-b3ad2e8d9337>\u001b[0m in \u001b[0;36mclear_table\u001b[0;34m(table)\u001b[0m\n\u001b[1;32m     10\u001b[0m \u001b[0;34m\u001b[0m\u001b[0m\n\u001b[1;32m     11\u001b[0m \u001b[0;32mdef\u001b[0m \u001b[0mclear_table\u001b[0m\u001b[0;34m(\u001b[0m\u001b[0mtable\u001b[0m\u001b[0;34m)\u001b[0m\u001b[0;34m:\u001b[0m\u001b[0;34m\u001b[0m\u001b[0;34m\u001b[0m\u001b[0m\n\u001b[0;32m---> 12\u001b[0;31m     \u001b[0mc\u001b[0m\u001b[0;34m.\u001b[0m\u001b[0mexecute\u001b[0m\u001b[0;34m(\u001b[0m\u001b[0;34m\"\"\"DELETE FROM (%s);\"\"\"\u001b[0m\u001b[0;34m,\u001b[0m \u001b[0;34m(\u001b[0m\u001b[0mtable\u001b[0m\u001b[0;34m)\u001b[0m\u001b[0;34m)\u001b[0m\u001b[0;34m\u001b[0m\u001b[0;34m\u001b[0m\u001b[0m\n\u001b[0m\u001b[1;32m     13\u001b[0m     \u001b[0;32mreturn\u001b[0m \u001b[0;32mNone\u001b[0m\u001b[0;34m\u001b[0m\u001b[0;34m\u001b[0m\u001b[0m\n\u001b[1;32m     14\u001b[0m \u001b[0;34m\u001b[0m\u001b[0m\n",
      "\u001b[0;31mOperationalError\u001b[0m: near \"(\": syntax error"
     ]
    }
   ],
   "source": [
    "clear_table(\"User\")"
   ]
  },
  {
   "cell_type": "code",
   "execution_count": 46,
   "metadata": {},
   "outputs": [
    {
     "ename": "NameError",
     "evalue": "name 'cursor' is not defined",
     "output_type": "error",
     "traceback": [
      "\u001b[0;31m---------------------------------------------------------------------------\u001b[0m",
      "\u001b[0;31mNameError\u001b[0m                                 Traceback (most recent call last)",
      "\u001b[0;32m<ipython-input-46-8e6ad9c36b5c>\u001b[0m in \u001b[0;36m<module>\u001b[0;34m\u001b[0m\n\u001b[1;32m      3\u001b[0m     \u001b[0mdb\u001b[0m\u001b[0;34m.\u001b[0m\u001b[0mcommit\u001b[0m\u001b[0;34m\u001b[0m\u001b[0;34m\u001b[0m\u001b[0m\n\u001b[1;32m      4\u001b[0m \u001b[0;34m\u001b[0m\u001b[0m\n\u001b[0;32m----> 5\u001b[0;31m \u001b[0madd_user\u001b[0m\u001b[0;34m(\u001b[0m\u001b[0;34m)\u001b[0m\u001b[0;34m\u001b[0m\u001b[0;34m\u001b[0m\u001b[0m\n\u001b[0m\u001b[1;32m      6\u001b[0m \u001b[0;34m\u001b[0m\u001b[0m\n",
      "\u001b[0;32m<ipython-input-46-8e6ad9c36b5c>\u001b[0m in \u001b[0;36madd_user\u001b[0;34m(FN, LN)\u001b[0m\n\u001b[1;32m      1\u001b[0m \u001b[0;32mdef\u001b[0m \u001b[0madd_user\u001b[0m\u001b[0;34m(\u001b[0m\u001b[0mFN\u001b[0m\u001b[0;34m=\u001b[0m\u001b[0;34m\"A\"\u001b[0m\u001b[0;34m,\u001b[0m\u001b[0mLN\u001b[0m\u001b[0;34m=\u001b[0m\u001b[0;34m\"B\"\u001b[0m\u001b[0;34m)\u001b[0m\u001b[0;34m:\u001b[0m\u001b[0;34m\u001b[0m\u001b[0;34m\u001b[0m\u001b[0m\n\u001b[0;32m----> 2\u001b[0;31m     \u001b[0mcursor\u001b[0m\u001b[0;34m.\u001b[0m\u001b[0mexecute\u001b[0m\u001b[0;34m(\u001b[0m\u001b[0;34m'''INSERT INTO User(ID,First_Name,Last_Name, Admin) VALUES(1,\"A\",\"B\",1); '''\u001b[0m\u001b[0;34m)\u001b[0m\u001b[0;34m\u001b[0m\u001b[0;34m\u001b[0m\u001b[0m\n\u001b[0m\u001b[1;32m      3\u001b[0m     \u001b[0mdb\u001b[0m\u001b[0;34m.\u001b[0m\u001b[0mcommit\u001b[0m\u001b[0;34m\u001b[0m\u001b[0;34m\u001b[0m\u001b[0m\n\u001b[1;32m      4\u001b[0m \u001b[0;34m\u001b[0m\u001b[0m\n\u001b[1;32m      5\u001b[0m \u001b[0madd_user\u001b[0m\u001b[0;34m(\u001b[0m\u001b[0;34m)\u001b[0m\u001b[0;34m\u001b[0m\u001b[0;34m\u001b[0m\u001b[0m\n",
      "\u001b[0;31mNameError\u001b[0m: name 'cursor' is not defined"
     ]
    }
   ],
   "source": [
    "def add_user(FN=\"A\",LN=\"B\"):\n",
    "    cursor.execute('''INSERT INTO User(ID,First_Name,Last_Name, Admin) VALUES(1,\"A\",\"B\",1); ''')\n",
    "    db.commit\n",
    "\n",
    "add_user()\n",
    "    "
   ]
  },
  {
   "cell_type": "code",
   "execution_count": 39,
   "metadata": {},
   "outputs": [],
   "source": [
    "db = connect()\n",
    "c = db.cursor()\n"
   ]
  },
  {
   "cell_type": "code",
   "execution_count": 10,
   "metadata": {},
   "outputs": [],
   "source": [
    "p1 = cursor.fetchall()\n",
    "for x in p1:\n",
    "    print(x)\n",
    "db.commit()\n",
    "    "
   ]
  },
  {
   "cell_type": "code",
   "execution_count": null,
   "metadata": {},
   "outputs": [],
   "source": []
  },
  {
   "cell_type": "code",
   "execution_count": 13,
   "metadata": {},
   "outputs": [],
   "source": [
    "import django\n",
    "from django.contrib.auth import authenticate, login"
   ]
  },
  {
   "cell_type": "code",
   "execution_count": 22,
   "metadata": {},
   "outputs": [
    {
     "name": "stdout",
     "output_type": "stream",
     "text": [
      "Unable to Connect\n"
     ]
    },
    {
     "ename": "AttributeError",
     "evalue": "'NoneType' object has no attribute 'cursor'",
     "output_type": "error",
     "traceback": [
      "\u001b[0;31m---------------------------------------------------------------------------\u001b[0m",
      "\u001b[0;31mAttributeError\u001b[0m                            Traceback (most recent call last)",
      "\u001b[0;32m<ipython-input-22-3eeb70dbe5a1>\u001b[0m in \u001b[0;36m<module>\u001b[0;34m\u001b[0m\n\u001b[1;32m      1\u001b[0m \u001b[0mdb\u001b[0m \u001b[0;34m=\u001b[0m \u001b[0mconnect\u001b[0m\u001b[0;34m(\u001b[0m\u001b[0;34m\"/Users/jass/Documents/Master_Summer/MIS_382N_Adv._Programming/project/Phase1/projecttest.db\"\u001b[0m\u001b[0;34m)\u001b[0m\u001b[0;34m\u001b[0m\u001b[0;34m\u001b[0m\u001b[0m\n\u001b[0;32m----> 2\u001b[0;31m \u001b[0mcursor\u001b[0m \u001b[0;34m=\u001b[0m \u001b[0mdb\u001b[0m\u001b[0;34m.\u001b[0m\u001b[0mcursor\u001b[0m\u001b[0;34m(\u001b[0m\u001b[0;34m)\u001b[0m\u001b[0;34m\u001b[0m\u001b[0;34m\u001b[0m\u001b[0m\n\u001b[0m\u001b[1;32m      3\u001b[0m \u001b[0mcursor\u001b[0m\u001b[0;34m.\u001b[0m\u001b[0mexecute\u001b[0m\u001b[0;34m(\u001b[0m\u001b[0;34m'''SELECT * FROM User '''\u001b[0m\u001b[0;34m)\u001b[0m\u001b[0;34m\u001b[0m\u001b[0;34m\u001b[0m\u001b[0m\n\u001b[1;32m      4\u001b[0m \u001b[0mp\u001b[0m \u001b[0;34m=\u001b[0m \u001b[0mcursor\u001b[0m\u001b[0;34m.\u001b[0m\u001b[0mfetchall\u001b[0m\u001b[0;34m(\u001b[0m\u001b[0;34m)\u001b[0m\u001b[0;34m\u001b[0m\u001b[0;34m\u001b[0m\u001b[0m\n\u001b[1;32m      5\u001b[0m \u001b[0;32mfor\u001b[0m \u001b[0mx\u001b[0m \u001b[0;32min\u001b[0m \u001b[0mp\u001b[0m\u001b[0;34m:\u001b[0m\u001b[0;34m\u001b[0m\u001b[0;34m\u001b[0m\u001b[0m\n",
      "\u001b[0;31mAttributeError\u001b[0m: 'NoneType' object has no attribute 'cursor'"
     ]
    }
   ],
   "source": [
    "db = connect(\"/Users/jass/Documents/Master_Summer/MIS_382N_Adv._Programming/project/Phase1/projecttest.db\")\n",
    "cursor = db.cursor()\n",
    "cursor.execute('''SELECT * FROM User ''')\n",
    "p = cursor.fetchall()\n",
    "for x in p:\n",
    "    print(x)\n",
    "db.commit()"
   ]
  },
  {
   "cell_type": "markdown",
   "metadata": {},
   "source": [
    "# David's code"
   ]
  },
  {
   "cell_type": "code",
   "execution_count": null,
   "metadata": {},
   "outputs": [],
   "source": [
    "#If User is admin code here then allow this option\n",
    "\n",
    "nm = input(\"Choose a User name: \") \n",
    "pw = input(\"Choose a Password: \")\n",
    "login = (nm,pw)\n",
    "add_user()"
   ]
  },
  {
   "cell_type": "markdown",
   "metadata": {},
   "source": [
    "# Admin Menu1"
   ]
  },
  {
   "cell_type": "code",
   "execution_count": null,
   "metadata": {},
   "outputs": [],
   "source": [
    "def main():\n",
    "    def menu(login==j): # put in admin login to run this function\n",
    "        print(\"What do you want to do?\")\n",
    "        print()\n",
    "        inputmenu = input(\"Press the following numbers for certain features \\n\\\n",
    "                [1] Add a New User \\n\\\n",
    "                [2] Add a New Venue \\n\\\n",
    "                [3] Start an Event \\n\\\n",
    "                [4] Display Time Slot availability at Venue \\n\\\n",
    "                [5] Display All Venues in time slots \\n\\\n",
    "                [6] Select when and where you want to play \\n\\\n",
    "                [7] User joins an event \\n\\\n",
    "                [8] Remove an Event \\n\\\n",
    "                [9] Quit the application\")   \n",
    "        if inputmenu == '1':\n",
    "            def add_user(): \n",
    "                nm = input(\"Choose a User name: \") \n",
    "                pw = input(\"Choose a Password: \")\n",
    "                admin = input(str('Admin [Y or N]?'))\n",
    "                \n",
    "                login = (nm,pw,admin)\n",
    "                #add this username,pwd, and admin\n",
    "\n",
    "            add_user()\n",
    "            \n",
    "        if inputmenu == '2':\n",
    "            def venue_add:\n",
    "            Venue_Name_add = input(\"What Venue would you like to add? \")\n",
    "            Venue_Event_Capacity = input(\"What is the Event Capacity? \")\n",
    "            Availability_Start = input(\"What time do you want bookings available to start everyday? \\n\\\n",
    "                                    Please enter in *insert format type* \") # how do we do it\n",
    "            Availability_End = input(\"What time do you want bookings available to end everyday? \\n\\\n",
    "                                    Please enter in *insert format type*\")\n",
    "            #add data\n",
    "\n",
    "            #converion of availability start end\n",
    "            int_Availability_start = int()\n",
    "            int_Availability_end = int()\n",
    "\n",
    "\n",
    "            print(\"Thank you for adding a Venue!\")\n",
    "\n",
    "        if inputmenu == '3':\n",
    "            #Define a function for User version\n",
    "            Event_Location = input('nwhere would you like to pl')\n",
    "\n",
    "\n",
    "        if inputmenu == '4':\n",
    "            #Define a function for User Verison\n",
    "            c.execute(\"\"\"SELECT Venue from VENUE\"\"\")\n",
    "            print('What venue do you want to select ?')\n",
    "            print()\n",
    "            #Display options\n",
    "            for i in venue:\n",
    "                print(\"ID = \", row[0],)\n",
    "                print(\"Name = \", row[1])\n",
    "            print('''''')\n",
    "            \n",
    "            #Select \n",
    "\n",
    "        if inputmenu == '5':\n",
    "            #Define a function for User Verison\n",
    "            #not me\n",
    "        if inputmenu == '6':\n",
    "            #Define a function for User Verison\n",
    "            #not me\n",
    "        if inputmenu == '7':\n",
    "            #Define a function for User Verison\n",
    "\n",
    "        if inputmenu == '8':\n",
    "            Venue_Delete = input(\"What input would you like to delete? \")\n",
    "            c.execute(\"\"\"SELECT * FROM Venue WHERE Venue == Venue_Delete;\"\"\").format\n",
    "            if Venue_Delete == : #Venuematches\n",
    "                c.eexec\n",
    "            if Venue_Delete !=   \n",
    "        if inputmenu == '9':\n",
    "            print('Thank you for using Pickup Sport!')\n",
    "            break\n",
    "        \n",
    "        #Run the code again\n",
    "        restart=input(\"Do you want to do anything else?\").lower\n",
    "        if restart == \"yes\":\n",
    "            main()\n",
    "        else:\n",
    "            exit()\n",
    "main() "
   ]
  },
  {
   "cell_type": "markdown",
   "metadata": {},
   "source": [
    "# User Menu"
   ]
  },
  {
   "cell_type": "code",
   "execution_count": null,
   "metadata": {},
   "outputs": [],
   "source": [
    "def menu(login==i):\n",
    "    inputmenu = input(\"Press the following numbers for certain features \\n\\\n",
    "            [1] Start an Event \\n\\\n",
    "            [2] Display Time Slot availability at Venue \\n\\\n",
    "            [3] Display All Venues in time slots \\n\\\n",
    "            [4] Select when and where you want to play \\n\\\n",
    "            [5] User joins an event \")   \n",
    "    if inputmenu == '1':\n",
    "        \n",
    "    if inputmenu == '2':\n",
    "        \n",
    "    if inputmenu == '3':\n",
    "        \n",
    "    if inputmenu == '4':\n",
    "        \n",
    "    if inputmenu == '5':\n",
    "        "
   ]
  }
 ],
 "metadata": {
  "kernelspec": {
   "display_name": "Python 3",
   "language": "python",
   "name": "python3"
  },
  "language_info": {
   "codemirror_mode": {
    "name": "ipython",
    "version": 3
   },
   "file_extension": ".py",
   "mimetype": "text/x-python",
   "name": "python",
   "nbconvert_exporter": "python",
   "pygments_lexer": "ipython3",
   "version": "3.7.3"
  }
 },
 "nbformat": 4,
 "nbformat_minor": 2
}
